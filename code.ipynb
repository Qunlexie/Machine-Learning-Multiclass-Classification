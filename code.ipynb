{
 "cells": [
  {
   "cell_type": "markdown",
   "id": "ab7e4f4f",
   "metadata": {},
   "source": [
    "Summary\n",
    "=======\n",
    "\n",
    "Multiclass classification is a classic problem in machine learning and data science. In this project, I have been given a hypothetical data set with the task of predicting if instances fall into either class 0, 1, or 2. After extensive data exploration including the initial and exploratory data analysis to understand the data set, the preprocessing pipeline was built which includes a categorical encoder for the categorical variables and a min-max scaler for the numerical variables. I then proceeded to use the xgboost (XGB) model which is one of the most prolific machine learning algorithms for tabular data, achieving record performance in many data science and ML competitions. I built three different variants of the XGB model including a pretuned model - using default parameters, a tuned model with grid search or exhaustive search method, and a final weighted model to account for data imbalance. I find that the pre-tuned model based achieved the highest performance and was therefore used to generate predictions on the test set. Finally, I discussed some of the major limitations and areas of possible improvement. "
   ]
  },
  {
   "cell_type": "code",
   "execution_count": 1,
   "id": "5e177a5a",
   "metadata": {},
   "outputs": [
    {
     "data": {
      "application/javascript": [
       "\n",
       "            setTimeout(function() {\n",
       "                var nbb_cell_id = 1;\n",
       "                var nbb_unformatted_code = \"# =========================\\n# Import necessary modules\\n# =========================\\nimport pandas as pd\\nimport matplotlib.pyplot as plt\\nimport seaborn as sns\\nfrom sklearn.compose import ColumnTransformer\\nfrom sklearn.preprocessing import OneHotEncoder\\nfrom sklearn.preprocessing import MinMaxScaler\\nfrom sklearn.pipeline import Pipeline\\nfrom sklearn.model_selection import GridSearchCV\\nfrom sklearn.metrics import classification_report, confusion_matrix\\nimport numpy as np\\nfrom sklearn.utils import class_weight\\nimport xgboost as xgb\\nfrom IPython.display import set_matplotlib_formats\\nfrom sklearn.model_selection import train_test_split\\n\\nset_matplotlib_formats(\\\"retina\\\")\\n%load_ext nb_black\";\n",
       "                var nbb_formatted_code = \"# =========================\\n# Import necessary modules\\n# =========================\\nimport pandas as pd\\nimport matplotlib.pyplot as plt\\nimport seaborn as sns\\nfrom sklearn.compose import ColumnTransformer\\nfrom sklearn.preprocessing import OneHotEncoder\\nfrom sklearn.preprocessing import MinMaxScaler\\nfrom sklearn.pipeline import Pipeline\\nfrom sklearn.model_selection import GridSearchCV\\nfrom sklearn.metrics import classification_report, confusion_matrix\\nimport numpy as np\\nfrom sklearn.utils import class_weight\\nimport xgboost as xgb\\nfrom IPython.display import set_matplotlib_formats\\nfrom sklearn.model_selection import train_test_split\\n\\nset_matplotlib_formats(\\\"retina\\\")\\n%load_ext nb_black\";\n",
       "                var nbb_cells = Jupyter.notebook.get_cells();\n",
       "                for (var i = 0; i < nbb_cells.length; ++i) {\n",
       "                    if (nbb_cells[i].input_prompt_number == nbb_cell_id) {\n",
       "                        if (nbb_cells[i].get_text() == nbb_unformatted_code) {\n",
       "                             nbb_cells[i].set_text(nbb_formatted_code);\n",
       "                        }\n",
       "                        break;\n",
       "                    }\n",
       "                }\n",
       "            }, 500);\n",
       "            "
      ],
      "text/plain": [
       "<IPython.core.display.Javascript object>"
      ]
     },
     "metadata": {},
     "output_type": "display_data"
    }
   ],
   "source": [
    "# =========================\n",
    "# Import necessary modules\n",
    "# =========================\n",
    "import pandas as pd\n",
    "import matplotlib.pyplot as plt\n",
    "import seaborn as sns\n",
    "from sklearn.compose import ColumnTransformer\n",
    "from sklearn.preprocessing import OneHotEncoder\n",
    "from sklearn.preprocessing import MinMaxScaler\n",
    "from sklearn.pipeline import Pipeline\n",
    "from sklearn.model_selection import GridSearchCV\n",
    "from sklearn.metrics import classification_report, confusion_matrix\n",
    "import numpy as np\n",
    "from sklearn.utils import class_weight\n",
    "import xgboost as xgb\n",
    "from IPython.display import set_matplotlib_formats\n",
    "from sklearn.model_selection import train_test_split\n",
    "\n",
    "set_matplotlib_formats(\"retina\")\n",
    "%load_ext nb_black"
   ]
  },
  {
   "cell_type": "code",
   "execution_count": 2,
   "id": "67b8cdbc",
   "metadata": {},
   "outputs": [
    {
     "data": {
      "application/javascript": [
       "\n",
       "            setTimeout(function() {\n",
       "                var nbb_cell_id = 2;\n",
       "                var nbb_unformatted_code = \"# =========================\\n# Load data to be used\\n# =========================\\n\\ny = pd.read_csv(\\\"candidate_assignment/train_labels.csv\\\", header=None)\\nx = pd.read_csv(\\\"candidate_assignment/train_features.csv\\\", header=None)\\nx_test = pd.read_csv(\\\"candidate_assignment/test_features.csv\\\", header=None)\";\n",
       "                var nbb_formatted_code = \"# =========================\\n# Load data to be used\\n# =========================\\n\\ny = pd.read_csv(\\\"candidate_assignment/train_labels.csv\\\", header=None)\\nx = pd.read_csv(\\\"candidate_assignment/train_features.csv\\\", header=None)\\nx_test = pd.read_csv(\\\"candidate_assignment/test_features.csv\\\", header=None)\";\n",
       "                var nbb_cells = Jupyter.notebook.get_cells();\n",
       "                for (var i = 0; i < nbb_cells.length; ++i) {\n",
       "                    if (nbb_cells[i].input_prompt_number == nbb_cell_id) {\n",
       "                        if (nbb_cells[i].get_text() == nbb_unformatted_code) {\n",
       "                             nbb_cells[i].set_text(nbb_formatted_code);\n",
       "                        }\n",
       "                        break;\n",
       "                    }\n",
       "                }\n",
       "            }, 500);\n",
       "            "
      ],
      "text/plain": [
       "<IPython.core.display.Javascript object>"
      ]
     },
     "metadata": {},
     "output_type": "display_data"
    }
   ],
   "source": [
    "# =========================\n",
    "# Load data to be used\n",
    "# =========================\n",
    "\n",
    "y = pd.read_csv(\"candidate_assignment/train_labels.csv\", header=None)\n",
    "x = pd.read_csv(\"candidate_assignment/train_features.csv\", header=None)\n",
    "x_test = pd.read_csv(\"candidate_assignment/test_features.csv\", header=None)"
   ]
  },
  {
   "cell_type": "markdown",
   "id": "5a9b37dc",
   "metadata": {},
   "source": [
    "### METHODOLOGY\n",
    "1. Exploratory Analysis to understand the data: <br>\n",
    "    a. Intial Exploratory Analysis<br>\n",
    "    b. Exploratory Data Analysis\n",
    "2. Preprocessing:<br>\n",
    "    a. Scaling/Normalization (Numerical Features)<br>\n",
    "    b. One Hot Encoding (Categorical Features)<br>\n",
    "3. Model training and hyperparameter tuning<br>\n",
    "    a. Baseline model <br>\n",
    "    b. Hyperparameter tuned model <br>\n",
    "    c. Model + data imbalance weighting <br>\n",
    "4. Prediction with best model "
   ]
  },
  {
   "cell_type": "markdown",
   "id": "39cb6fef",
   "metadata": {},
   "source": [
    "### 1. Exploratory Analysis "
   ]
  },
  {
   "cell_type": "markdown",
   "id": "e6f60eb5",
   "metadata": {},
   "source": [
    "#### 1a. Initial Exploratory Analysis"
   ]
  },
  {
   "cell_type": "code",
   "execution_count": 3,
   "id": "aa8f6161",
   "metadata": {},
   "outputs": [
    {
     "name": "stdout",
     "output_type": "stream",
     "text": [
      "Data Distribution: label\n",
      "0    17\n",
      "1    82\n",
      "2    41\n",
      "dtype: int64\n"
     ]
    },
    {
     "data": {
      "application/javascript": [
       "\n",
       "            setTimeout(function() {\n",
       "                var nbb_cell_id = 3;\n",
       "                var nbb_unformatted_code = \"# ==============================\\n# Label Distribution\\n# ==============================\\n\\nlabel_dist = y.rename(columns={0: \\\"label\\\"}).groupby(\\\"label\\\").size()\\nprint(f\\\"Data Distribution: {label_dist}\\\")\";\n",
       "                var nbb_formatted_code = \"# ==============================\\n# Label Distribution\\n# ==============================\\n\\nlabel_dist = y.rename(columns={0: \\\"label\\\"}).groupby(\\\"label\\\").size()\\nprint(f\\\"Data Distribution: {label_dist}\\\")\";\n",
       "                var nbb_cells = Jupyter.notebook.get_cells();\n",
       "                for (var i = 0; i < nbb_cells.length; ++i) {\n",
       "                    if (nbb_cells[i].input_prompt_number == nbb_cell_id) {\n",
       "                        if (nbb_cells[i].get_text() == nbb_unformatted_code) {\n",
       "                             nbb_cells[i].set_text(nbb_formatted_code);\n",
       "                        }\n",
       "                        break;\n",
       "                    }\n",
       "                }\n",
       "            }, 500);\n",
       "            "
      ],
      "text/plain": [
       "<IPython.core.display.Javascript object>"
      ]
     },
     "metadata": {},
     "output_type": "display_data"
    }
   ],
   "source": [
    "# ==============================\n",
    "# Label Distribution\n",
    "# ==============================\n",
    "\n",
    "label_dist = y.rename(columns={0: \"label\"}).groupby(\"label\").size()\n",
    "print(f\"Data Distribution: {label_dist}\")"
   ]
  },
  {
   "cell_type": "code",
   "execution_count": 4,
   "id": "24d69275",
   "metadata": {},
   "outputs": [
    {
     "data": {
      "application/javascript": [
       "\n",
       "            setTimeout(function() {\n",
       "                var nbb_cell_id = 4;\n",
       "                var nbb_unformatted_code = \"# ================================\\n# Feature Distribution\\n# ================================\\ncat_features = x[x.columns[:3]]  # categorical features\\nnum_features = x[x.columns[3:]]  # numerical features\";\n",
       "                var nbb_formatted_code = \"# ================================\\n# Feature Distribution\\n# ================================\\ncat_features = x[x.columns[:3]]  # categorical features\\nnum_features = x[x.columns[3:]]  # numerical features\";\n",
       "                var nbb_cells = Jupyter.notebook.get_cells();\n",
       "                for (var i = 0; i < nbb_cells.length; ++i) {\n",
       "                    if (nbb_cells[i].input_prompt_number == nbb_cell_id) {\n",
       "                        if (nbb_cells[i].get_text() == nbb_unformatted_code) {\n",
       "                             nbb_cells[i].set_text(nbb_formatted_code);\n",
       "                        }\n",
       "                        break;\n",
       "                    }\n",
       "                }\n",
       "            }, 500);\n",
       "            "
      ],
      "text/plain": [
       "<IPython.core.display.Javascript object>"
      ]
     },
     "metadata": {},
     "output_type": "display_data"
    }
   ],
   "source": [
    "# ================================\n",
    "# Feature Distribution\n",
    "# ================================\n",
    "cat_features = x[x.columns[:3]]  # categorical features\n",
    "num_features = x[x.columns[3:]]  # numerical features"
   ]
  },
  {
   "cell_type": "code",
   "execution_count": 5,
   "id": "4c123401",
   "metadata": {},
   "outputs": [
    {
     "name": "stdout",
     "output_type": "stream",
     "text": [
      " \u001b[1m Description of Categorical Features:  \u001b[0m \n",
      "            0       1    2\n",
      "count    140     140  140\n",
      "unique     2       3    3\n",
      "top     left  type_3  red\n",
      "freq      79      64   53\n"
     ]
    },
    {
     "data": {
      "application/javascript": [
       "\n",
       "            setTimeout(function() {\n",
       "                var nbb_cell_id = 5;\n",
       "                var nbb_unformatted_code = \"print(\\n    f\\\" \\\\033[1m Description of Categorical Features:  \\\\033[0m \\\\n {cat_features.describe()}\\\"\\n)\";\n",
       "                var nbb_formatted_code = \"print(\\n    f\\\" \\\\033[1m Description of Categorical Features:  \\\\033[0m \\\\n {cat_features.describe()}\\\"\\n)\";\n",
       "                var nbb_cells = Jupyter.notebook.get_cells();\n",
       "                for (var i = 0; i < nbb_cells.length; ++i) {\n",
       "                    if (nbb_cells[i].input_prompt_number == nbb_cell_id) {\n",
       "                        if (nbb_cells[i].get_text() == nbb_unformatted_code) {\n",
       "                             nbb_cells[i].set_text(nbb_formatted_code);\n",
       "                        }\n",
       "                        break;\n",
       "                    }\n",
       "                }\n",
       "            }, 500);\n",
       "            "
      ],
      "text/plain": [
       "<IPython.core.display.Javascript object>"
      ]
     },
     "metadata": {},
     "output_type": "display_data"
    }
   ],
   "source": [
    "print(\n",
    "    f\" \\033[1m Description of Categorical Features:  \\033[0m \\n {cat_features.describe()}\"\n",
    ")"
   ]
  },
  {
   "cell_type": "code",
   "execution_count": 6,
   "id": "9ac94892",
   "metadata": {},
   "outputs": [
    {
     "name": "stdout",
     "output_type": "stream",
     "text": [
      "<class 'pandas.core.frame.DataFrame'>\n",
      "RangeIndex: 140 entries, 0 to 139\n",
      "Data columns (total 3 columns):\n",
      " #   Column  Non-Null Count  Dtype \n",
      "---  ------  --------------  ----- \n",
      " 0   0       140 non-null    object\n",
      " 1   1       140 non-null    object\n",
      " 2   2       140 non-null    object\n",
      "dtypes: object(3)\n",
      "memory usage: 3.4+ KB\n"
     ]
    },
    {
     "data": {
      "application/javascript": [
       "\n",
       "            setTimeout(function() {\n",
       "                var nbb_cell_id = 6;\n",
       "                var nbb_unformatted_code = \"cat_features.info()\";\n",
       "                var nbb_formatted_code = \"cat_features.info()\";\n",
       "                var nbb_cells = Jupyter.notebook.get_cells();\n",
       "                for (var i = 0; i < nbb_cells.length; ++i) {\n",
       "                    if (nbb_cells[i].input_prompt_number == nbb_cell_id) {\n",
       "                        if (nbb_cells[i].get_text() == nbb_unformatted_code) {\n",
       "                             nbb_cells[i].set_text(nbb_formatted_code);\n",
       "                        }\n",
       "                        break;\n",
       "                    }\n",
       "                }\n",
       "            }, 500);\n",
       "            "
      ],
      "text/plain": [
       "<IPython.core.display.Javascript object>"
      ]
     },
     "metadata": {},
     "output_type": "display_data"
    }
   ],
   "source": [
    "cat_features.info()"
   ]
  },
  {
   "cell_type": "code",
   "execution_count": 7,
   "id": "556bc977",
   "metadata": {},
   "outputs": [
    {
     "name": "stdout",
     "output_type": "stream",
     "text": [
      "(0, 2, ['left', 'right'])\n",
      "(1, 3, ['type_1', 'type_2', 'type_3'])\n",
      "(2, 3, ['blue', 'green', 'red'])\n"
     ]
    },
    {
     "data": {
      "application/javascript": [
       "\n",
       "            setTimeout(function() {\n",
       "                var nbb_cell_id = 7;\n",
       "                var nbb_unformatted_code = \"for column in cat_features.columns:\\n    uniques = sorted(cat_features[column].unique())\\n    print(f\\\"{column, len(uniques), uniques[:5]}\\\")\";\n",
       "                var nbb_formatted_code = \"for column in cat_features.columns:\\n    uniques = sorted(cat_features[column].unique())\\n    print(f\\\"{column, len(uniques), uniques[:5]}\\\")\";\n",
       "                var nbb_cells = Jupyter.notebook.get_cells();\n",
       "                for (var i = 0; i < nbb_cells.length; ++i) {\n",
       "                    if (nbb_cells[i].input_prompt_number == nbb_cell_id) {\n",
       "                        if (nbb_cells[i].get_text() == nbb_unformatted_code) {\n",
       "                             nbb_cells[i].set_text(nbb_formatted_code);\n",
       "                        }\n",
       "                        break;\n",
       "                    }\n",
       "                }\n",
       "            }, 500);\n",
       "            "
      ],
      "text/plain": [
       "<IPython.core.display.Javascript object>"
      ]
     },
     "metadata": {},
     "output_type": "display_data"
    }
   ],
   "source": [
    "for column in cat_features.columns:\n",
    "    uniques = sorted(cat_features[column].unique())\n",
    "    print(f\"{column, len(uniques), uniques[:5]}\")"
   ]
  },
  {
   "cell_type": "code",
   "execution_count": 8,
   "id": "44b65e40",
   "metadata": {},
   "outputs": [
    {
     "name": "stdout",
     "output_type": "stream",
     "text": [
      " \u001b[1m Description of Numerical Features:  \u001b[0m \n",
      "               3           4           5           6           7           8    \\\n",
      "count  140.000000  140.000000  140.000000  140.000000  140.000000  140.000000   \n",
      "mean    -3.706226    0.620541   -0.691226   -2.883438    0.798445    0.276561   \n",
      "std      4.064704    3.014747    3.295262    3.331956    3.484214    3.203680   \n",
      "min    -12.753200   -8.020900   -9.688800  -10.540100   -8.493400   -6.525400   \n",
      "25%     -6.393700   -1.665500   -2.625975   -5.215000   -1.934025   -1.833875   \n",
      "50%     -4.022400    0.559550   -0.651150   -3.022050    1.005600    0.309250   \n",
      "75%     -0.860025    2.784550    1.432475   -0.441100    3.353100    2.432525   \n",
      "max      7.862500    9.077900    7.729800    5.230100   10.856000    8.125200   \n",
      "\n",
      "              9           10          11          12   ...         893  \\\n",
      "count  140.000000  140.000000  140.000000  140.000000  ...  140.000000   \n",
      "mean     0.382528   -0.890959   -1.694734   -0.719966  ...   -1.508409   \n",
      "std      3.114446    3.221021    3.639898    3.124935  ...    3.125331   \n",
      "min     -8.397000   -8.372300  -10.153200  -10.185400  ...   -8.152700   \n",
      "25%     -1.871550   -2.941725   -3.986725   -2.876275  ...   -3.739425   \n",
      "50%      0.454450   -0.826550   -1.664150   -0.940650  ...   -1.873850   \n",
      "75%      2.270475    1.324300    0.575900    1.441625  ...    0.490925   \n",
      "max      9.032900    8.249100    7.994100    7.576900  ...    7.073000   \n",
      "\n",
      "              894         895         896         897         898         899  \\\n",
      "count  140.000000  140.000000  140.000000  140.000000  140.000000  140.000000   \n",
      "mean    -1.576743    0.190566    0.665053   -0.774684    0.931779    0.791181   \n",
      "std      3.262723    3.429600    3.092077    3.462897    3.301253    3.131848   \n",
      "min    -10.229800   -8.713400   -9.106600  -11.294900   -7.695700   -7.090500   \n",
      "25%     -3.837325   -2.248525   -1.361275   -3.141325   -0.960575   -1.299400   \n",
      "50%     -1.594600    0.274000    0.456750   -1.232550    1.210100    0.785650   \n",
      "75%      0.554300    2.449825    2.790450    1.842575    3.121575    2.618375   \n",
      "max      6.822000   11.433600    9.259000    7.385900   12.639000    9.713000   \n",
      "\n",
      "              900         901         902  \n",
      "count  140.000000  140.000000  140.000000  \n",
      "mean    -0.458641    0.723416   -0.132218  \n",
      "std      2.616963    3.382829    3.657816  \n",
      "min     -6.851600   -6.184400   -9.723500  \n",
      "25%     -2.491375   -1.769575   -2.728575  \n",
      "50%     -0.055900    0.350250    0.200050  \n",
      "75%      1.136900    3.384000    2.175950  \n",
      "max      5.019900    8.439900    9.632300  \n",
      "\n",
      "[8 rows x 900 columns]\n"
     ]
    },
    {
     "data": {
      "application/javascript": [
       "\n",
       "            setTimeout(function() {\n",
       "                var nbb_cell_id = 8;\n",
       "                var nbb_unformatted_code = \"print(\\n    f\\\" \\\\033[1m Description of Numerical Features:  \\\\033[0m \\\\n {num_features.describe()}\\\"\\n)\";\n",
       "                var nbb_formatted_code = \"print(\\n    f\\\" \\\\033[1m Description of Numerical Features:  \\\\033[0m \\\\n {num_features.describe()}\\\"\\n)\";\n",
       "                var nbb_cells = Jupyter.notebook.get_cells();\n",
       "                for (var i = 0; i < nbb_cells.length; ++i) {\n",
       "                    if (nbb_cells[i].input_prompt_number == nbb_cell_id) {\n",
       "                        if (nbb_cells[i].get_text() == nbb_unformatted_code) {\n",
       "                             nbb_cells[i].set_text(nbb_formatted_code);\n",
       "                        }\n",
       "                        break;\n",
       "                    }\n",
       "                }\n",
       "            }, 500);\n",
       "            "
      ],
      "text/plain": [
       "<IPython.core.display.Javascript object>"
      ]
     },
     "metadata": {},
     "output_type": "display_data"
    }
   ],
   "source": [
    "print(\n",
    "    f\" \\033[1m Description of Numerical Features:  \\033[0m \\n {num_features.describe()}\"\n",
    ")"
   ]
  },
  {
   "cell_type": "code",
   "execution_count": 9,
   "id": "a4fd7289",
   "metadata": {},
   "outputs": [
    {
     "data": {
      "text/html": [
       "<div>\n",
       "<style scoped>\n",
       "    .dataframe tbody tr th:only-of-type {\n",
       "        vertical-align: middle;\n",
       "    }\n",
       "\n",
       "    .dataframe tbody tr th {\n",
       "        vertical-align: top;\n",
       "    }\n",
       "\n",
       "    .dataframe thead th {\n",
       "        text-align: right;\n",
       "    }\n",
       "</style>\n",
       "<table border=\"1\" class=\"dataframe\">\n",
       "  <thead>\n",
       "    <tr style=\"text-align: right;\">\n",
       "      <th></th>\n",
       "      <th>3</th>\n",
       "      <th>4</th>\n",
       "      <th>5</th>\n",
       "      <th>6</th>\n",
       "      <th>7</th>\n",
       "      <th>8</th>\n",
       "      <th>9</th>\n",
       "      <th>10</th>\n",
       "      <th>11</th>\n",
       "      <th>12</th>\n",
       "      <th>...</th>\n",
       "      <th>893</th>\n",
       "      <th>894</th>\n",
       "      <th>895</th>\n",
       "      <th>896</th>\n",
       "      <th>897</th>\n",
       "      <th>898</th>\n",
       "      <th>899</th>\n",
       "      <th>900</th>\n",
       "      <th>901</th>\n",
       "      <th>902</th>\n",
       "    </tr>\n",
       "  </thead>\n",
       "  <tbody>\n",
       "    <tr>\n",
       "      <th>count</th>\n",
       "      <td>140.000000</td>\n",
       "      <td>140.000000</td>\n",
       "      <td>140.000000</td>\n",
       "      <td>140.000000</td>\n",
       "      <td>140.000000</td>\n",
       "      <td>140.000000</td>\n",
       "      <td>140.000000</td>\n",
       "      <td>140.000000</td>\n",
       "      <td>140.000000</td>\n",
       "      <td>140.000000</td>\n",
       "      <td>...</td>\n",
       "      <td>140.000000</td>\n",
       "      <td>140.000000</td>\n",
       "      <td>140.000000</td>\n",
       "      <td>140.000000</td>\n",
       "      <td>140.000000</td>\n",
       "      <td>140.000000</td>\n",
       "      <td>140.000000</td>\n",
       "      <td>140.000000</td>\n",
       "      <td>140.000000</td>\n",
       "      <td>140.000000</td>\n",
       "    </tr>\n",
       "    <tr>\n",
       "      <th>mean</th>\n",
       "      <td>-3.706226</td>\n",
       "      <td>0.620541</td>\n",
       "      <td>-0.691226</td>\n",
       "      <td>-2.883438</td>\n",
       "      <td>0.798445</td>\n",
       "      <td>0.276561</td>\n",
       "      <td>0.382528</td>\n",
       "      <td>-0.890959</td>\n",
       "      <td>-1.694734</td>\n",
       "      <td>-0.719966</td>\n",
       "      <td>...</td>\n",
       "      <td>-1.508409</td>\n",
       "      <td>-1.576743</td>\n",
       "      <td>0.190566</td>\n",
       "      <td>0.665053</td>\n",
       "      <td>-0.774684</td>\n",
       "      <td>0.931779</td>\n",
       "      <td>0.791181</td>\n",
       "      <td>-0.458641</td>\n",
       "      <td>0.723416</td>\n",
       "      <td>-0.132218</td>\n",
       "    </tr>\n",
       "    <tr>\n",
       "      <th>std</th>\n",
       "      <td>4.064704</td>\n",
       "      <td>3.014747</td>\n",
       "      <td>3.295262</td>\n",
       "      <td>3.331956</td>\n",
       "      <td>3.484214</td>\n",
       "      <td>3.203680</td>\n",
       "      <td>3.114446</td>\n",
       "      <td>3.221021</td>\n",
       "      <td>3.639898</td>\n",
       "      <td>3.124935</td>\n",
       "      <td>...</td>\n",
       "      <td>3.125331</td>\n",
       "      <td>3.262723</td>\n",
       "      <td>3.429600</td>\n",
       "      <td>3.092077</td>\n",
       "      <td>3.462897</td>\n",
       "      <td>3.301253</td>\n",
       "      <td>3.131848</td>\n",
       "      <td>2.616963</td>\n",
       "      <td>3.382829</td>\n",
       "      <td>3.657816</td>\n",
       "    </tr>\n",
       "    <tr>\n",
       "      <th>min</th>\n",
       "      <td>-12.753200</td>\n",
       "      <td>-8.020900</td>\n",
       "      <td>-9.688800</td>\n",
       "      <td>-10.540100</td>\n",
       "      <td>-8.493400</td>\n",
       "      <td>-6.525400</td>\n",
       "      <td>-8.397000</td>\n",
       "      <td>-8.372300</td>\n",
       "      <td>-10.153200</td>\n",
       "      <td>-10.185400</td>\n",
       "      <td>...</td>\n",
       "      <td>-8.152700</td>\n",
       "      <td>-10.229800</td>\n",
       "      <td>-8.713400</td>\n",
       "      <td>-9.106600</td>\n",
       "      <td>-11.294900</td>\n",
       "      <td>-7.695700</td>\n",
       "      <td>-7.090500</td>\n",
       "      <td>-6.851600</td>\n",
       "      <td>-6.184400</td>\n",
       "      <td>-9.723500</td>\n",
       "    </tr>\n",
       "    <tr>\n",
       "      <th>25%</th>\n",
       "      <td>-6.393700</td>\n",
       "      <td>-1.665500</td>\n",
       "      <td>-2.625975</td>\n",
       "      <td>-5.215000</td>\n",
       "      <td>-1.934025</td>\n",
       "      <td>-1.833875</td>\n",
       "      <td>-1.871550</td>\n",
       "      <td>-2.941725</td>\n",
       "      <td>-3.986725</td>\n",
       "      <td>-2.876275</td>\n",
       "      <td>...</td>\n",
       "      <td>-3.739425</td>\n",
       "      <td>-3.837325</td>\n",
       "      <td>-2.248525</td>\n",
       "      <td>-1.361275</td>\n",
       "      <td>-3.141325</td>\n",
       "      <td>-0.960575</td>\n",
       "      <td>-1.299400</td>\n",
       "      <td>-2.491375</td>\n",
       "      <td>-1.769575</td>\n",
       "      <td>-2.728575</td>\n",
       "    </tr>\n",
       "    <tr>\n",
       "      <th>50%</th>\n",
       "      <td>-4.022400</td>\n",
       "      <td>0.559550</td>\n",
       "      <td>-0.651150</td>\n",
       "      <td>-3.022050</td>\n",
       "      <td>1.005600</td>\n",
       "      <td>0.309250</td>\n",
       "      <td>0.454450</td>\n",
       "      <td>-0.826550</td>\n",
       "      <td>-1.664150</td>\n",
       "      <td>-0.940650</td>\n",
       "      <td>...</td>\n",
       "      <td>-1.873850</td>\n",
       "      <td>-1.594600</td>\n",
       "      <td>0.274000</td>\n",
       "      <td>0.456750</td>\n",
       "      <td>-1.232550</td>\n",
       "      <td>1.210100</td>\n",
       "      <td>0.785650</td>\n",
       "      <td>-0.055900</td>\n",
       "      <td>0.350250</td>\n",
       "      <td>0.200050</td>\n",
       "    </tr>\n",
       "    <tr>\n",
       "      <th>75%</th>\n",
       "      <td>-0.860025</td>\n",
       "      <td>2.784550</td>\n",
       "      <td>1.432475</td>\n",
       "      <td>-0.441100</td>\n",
       "      <td>3.353100</td>\n",
       "      <td>2.432525</td>\n",
       "      <td>2.270475</td>\n",
       "      <td>1.324300</td>\n",
       "      <td>0.575900</td>\n",
       "      <td>1.441625</td>\n",
       "      <td>...</td>\n",
       "      <td>0.490925</td>\n",
       "      <td>0.554300</td>\n",
       "      <td>2.449825</td>\n",
       "      <td>2.790450</td>\n",
       "      <td>1.842575</td>\n",
       "      <td>3.121575</td>\n",
       "      <td>2.618375</td>\n",
       "      <td>1.136900</td>\n",
       "      <td>3.384000</td>\n",
       "      <td>2.175950</td>\n",
       "    </tr>\n",
       "    <tr>\n",
       "      <th>max</th>\n",
       "      <td>7.862500</td>\n",
       "      <td>9.077900</td>\n",
       "      <td>7.729800</td>\n",
       "      <td>5.230100</td>\n",
       "      <td>10.856000</td>\n",
       "      <td>8.125200</td>\n",
       "      <td>9.032900</td>\n",
       "      <td>8.249100</td>\n",
       "      <td>7.994100</td>\n",
       "      <td>7.576900</td>\n",
       "      <td>...</td>\n",
       "      <td>7.073000</td>\n",
       "      <td>6.822000</td>\n",
       "      <td>11.433600</td>\n",
       "      <td>9.259000</td>\n",
       "      <td>7.385900</td>\n",
       "      <td>12.639000</td>\n",
       "      <td>9.713000</td>\n",
       "      <td>5.019900</td>\n",
       "      <td>8.439900</td>\n",
       "      <td>9.632300</td>\n",
       "    </tr>\n",
       "  </tbody>\n",
       "</table>\n",
       "<p>8 rows × 900 columns</p>\n",
       "</div>"
      ],
      "text/plain": [
       "              3           4           5           6           7           8    \\\n",
       "count  140.000000  140.000000  140.000000  140.000000  140.000000  140.000000   \n",
       "mean    -3.706226    0.620541   -0.691226   -2.883438    0.798445    0.276561   \n",
       "std      4.064704    3.014747    3.295262    3.331956    3.484214    3.203680   \n",
       "min    -12.753200   -8.020900   -9.688800  -10.540100   -8.493400   -6.525400   \n",
       "25%     -6.393700   -1.665500   -2.625975   -5.215000   -1.934025   -1.833875   \n",
       "50%     -4.022400    0.559550   -0.651150   -3.022050    1.005600    0.309250   \n",
       "75%     -0.860025    2.784550    1.432475   -0.441100    3.353100    2.432525   \n",
       "max      7.862500    9.077900    7.729800    5.230100   10.856000    8.125200   \n",
       "\n",
       "              9           10          11          12   ...         893  \\\n",
       "count  140.000000  140.000000  140.000000  140.000000  ...  140.000000   \n",
       "mean     0.382528   -0.890959   -1.694734   -0.719966  ...   -1.508409   \n",
       "std      3.114446    3.221021    3.639898    3.124935  ...    3.125331   \n",
       "min     -8.397000   -8.372300  -10.153200  -10.185400  ...   -8.152700   \n",
       "25%     -1.871550   -2.941725   -3.986725   -2.876275  ...   -3.739425   \n",
       "50%      0.454450   -0.826550   -1.664150   -0.940650  ...   -1.873850   \n",
       "75%      2.270475    1.324300    0.575900    1.441625  ...    0.490925   \n",
       "max      9.032900    8.249100    7.994100    7.576900  ...    7.073000   \n",
       "\n",
       "              894         895         896         897         898         899  \\\n",
       "count  140.000000  140.000000  140.000000  140.000000  140.000000  140.000000   \n",
       "mean    -1.576743    0.190566    0.665053   -0.774684    0.931779    0.791181   \n",
       "std      3.262723    3.429600    3.092077    3.462897    3.301253    3.131848   \n",
       "min    -10.229800   -8.713400   -9.106600  -11.294900   -7.695700   -7.090500   \n",
       "25%     -3.837325   -2.248525   -1.361275   -3.141325   -0.960575   -1.299400   \n",
       "50%     -1.594600    0.274000    0.456750   -1.232550    1.210100    0.785650   \n",
       "75%      0.554300    2.449825    2.790450    1.842575    3.121575    2.618375   \n",
       "max      6.822000   11.433600    9.259000    7.385900   12.639000    9.713000   \n",
       "\n",
       "              900         901         902  \n",
       "count  140.000000  140.000000  140.000000  \n",
       "mean    -0.458641    0.723416   -0.132218  \n",
       "std      2.616963    3.382829    3.657816  \n",
       "min     -6.851600   -6.184400   -9.723500  \n",
       "25%     -2.491375   -1.769575   -2.728575  \n",
       "50%     -0.055900    0.350250    0.200050  \n",
       "75%      1.136900    3.384000    2.175950  \n",
       "max      5.019900    8.439900    9.632300  \n",
       "\n",
       "[8 rows x 900 columns]"
      ]
     },
     "execution_count": 9,
     "metadata": {},
     "output_type": "execute_result"
    },
    {
     "data": {
      "application/javascript": [
       "\n",
       "            setTimeout(function() {\n",
       "                var nbb_cell_id = 9;\n",
       "                var nbb_unformatted_code = \"num_features.describe()\";\n",
       "                var nbb_formatted_code = \"num_features.describe()\";\n",
       "                var nbb_cells = Jupyter.notebook.get_cells();\n",
       "                for (var i = 0; i < nbb_cells.length; ++i) {\n",
       "                    if (nbb_cells[i].input_prompt_number == nbb_cell_id) {\n",
       "                        if (nbb_cells[i].get_text() == nbb_unformatted_code) {\n",
       "                             nbb_cells[i].set_text(nbb_formatted_code);\n",
       "                        }\n",
       "                        break;\n",
       "                    }\n",
       "                }\n",
       "            }, 500);\n",
       "            "
      ],
      "text/plain": [
       "<IPython.core.display.Javascript object>"
      ]
     },
     "metadata": {},
     "output_type": "display_data"
    }
   ],
   "source": [
    "num_features.describe()"
   ]
  },
  {
   "cell_type": "code",
   "execution_count": 10,
   "id": "5a6de213",
   "metadata": {},
   "outputs": [
    {
     "name": "stdout",
     "output_type": "stream",
     "text": [
      "<class 'pandas.core.frame.DataFrame'>\n",
      "RangeIndex: 140 entries, 0 to 139\n",
      "Columns: 900 entries, 3 to 902\n",
      "dtypes: float64(900)\n",
      "memory usage: 984.5 KB\n"
     ]
    },
    {
     "data": {
      "application/javascript": [
       "\n",
       "            setTimeout(function() {\n",
       "                var nbb_cell_id = 10;\n",
       "                var nbb_unformatted_code = \"num_features.info()\";\n",
       "                var nbb_formatted_code = \"num_features.info()\";\n",
       "                var nbb_cells = Jupyter.notebook.get_cells();\n",
       "                for (var i = 0; i < nbb_cells.length; ++i) {\n",
       "                    if (nbb_cells[i].input_prompt_number == nbb_cell_id) {\n",
       "                        if (nbb_cells[i].get_text() == nbb_unformatted_code) {\n",
       "                             nbb_cells[i].set_text(nbb_formatted_code);\n",
       "                        }\n",
       "                        break;\n",
       "                    }\n",
       "                }\n",
       "            }, 500);\n",
       "            "
      ],
      "text/plain": [
       "<IPython.core.display.Javascript object>"
      ]
     },
     "metadata": {},
     "output_type": "display_data"
    }
   ],
   "source": [
    "num_features.info()"
   ]
  },
  {
   "cell_type": "markdown",
   "id": "746ed1e9",
   "metadata": {},
   "source": [
    "#### 1b. Exploratory Data Analysis"
   ]
  },
  {
   "cell_type": "code",
   "execution_count": 11,
   "id": "dd2b79dc",
   "metadata": {},
   "outputs": [
    {
     "data": {
      "application/javascript": [
       "\n",
       "            setTimeout(function() {\n",
       "                var nbb_cell_id = 11;\n",
       "                var nbb_unformatted_code = \"# ====================================\\n# Categorical Feature Exploration\\n# ====================================\";\n",
       "                var nbb_formatted_code = \"# ====================================\\n# Categorical Feature Exploration\\n# ====================================\";\n",
       "                var nbb_cells = Jupyter.notebook.get_cells();\n",
       "                for (var i = 0; i < nbb_cells.length; ++i) {\n",
       "                    if (nbb_cells[i].input_prompt_number == nbb_cell_id) {\n",
       "                        if (nbb_cells[i].get_text() == nbb_unformatted_code) {\n",
       "                             nbb_cells[i].set_text(nbb_formatted_code);\n",
       "                        }\n",
       "                        break;\n",
       "                    }\n",
       "                }\n",
       "            }, 500);\n",
       "            "
      ],
      "text/plain": [
       "<IPython.core.display.Javascript object>"
      ]
     },
     "metadata": {},
     "output_type": "display_data"
    }
   ],
   "source": [
    "# ====================================\n",
    "# Categorical Feature Exploration\n",
    "# ===================================="
   ]
  },
  {
   "cell_type": "code",
   "execution_count": 12,
   "id": "d59f3ec5",
   "metadata": {},
   "outputs": [
    {
     "data": {
      "application/javascript": [
       "\n",
       "            setTimeout(function() {\n",
       "                var nbb_cell_id = 12;\n",
       "                var nbb_unformatted_code = \"cat_train_data = pd.concat(\\n    [\\n        cat_features.rename(columns={0: \\\"left_right\\\", 1: \\\"type\\\", 2: \\\"color\\\"}),\\n        y.rename(columns={0: \\\"label\\\"}),\\n    ],\\n    axis=1,\\n)\";\n",
       "                var nbb_formatted_code = \"cat_train_data = pd.concat(\\n    [\\n        cat_features.rename(columns={0: \\\"left_right\\\", 1: \\\"type\\\", 2: \\\"color\\\"}),\\n        y.rename(columns={0: \\\"label\\\"}),\\n    ],\\n    axis=1,\\n)\";\n",
       "                var nbb_cells = Jupyter.notebook.get_cells();\n",
       "                for (var i = 0; i < nbb_cells.length; ++i) {\n",
       "                    if (nbb_cells[i].input_prompt_number == nbb_cell_id) {\n",
       "                        if (nbb_cells[i].get_text() == nbb_unformatted_code) {\n",
       "                             nbb_cells[i].set_text(nbb_formatted_code);\n",
       "                        }\n",
       "                        break;\n",
       "                    }\n",
       "                }\n",
       "            }, 500);\n",
       "            "
      ],
      "text/plain": [
       "<IPython.core.display.Javascript object>"
      ]
     },
     "metadata": {},
     "output_type": "display_data"
    }
   ],
   "source": [
    "cat_train_data = pd.concat(\n",
    "    [\n",
    "        cat_features.rename(columns={0: \"left_right\", 1: \"type\", 2: \"color\"}),\n",
    "        y.rename(columns={0: \"label\"}),\n",
    "    ],\n",
    "    axis=1,\n",
    ")"
   ]
  },
  {
   "cell_type": "code",
   "execution_count": 13,
   "id": "a761a4df",
   "metadata": {},
   "outputs": [
    {
     "data": {
      "text/html": [
       "<div>\n",
       "<style scoped>\n",
       "    .dataframe tbody tr th:only-of-type {\n",
       "        vertical-align: middle;\n",
       "    }\n",
       "\n",
       "    .dataframe tbody tr th {\n",
       "        vertical-align: top;\n",
       "    }\n",
       "\n",
       "    .dataframe thead th {\n",
       "        text-align: right;\n",
       "    }\n",
       "</style>\n",
       "<table border=\"1\" class=\"dataframe\">\n",
       "  <thead>\n",
       "    <tr style=\"text-align: right;\">\n",
       "      <th></th>\n",
       "      <th>left_right</th>\n",
       "      <th>type</th>\n",
       "      <th>color</th>\n",
       "      <th>label</th>\n",
       "    </tr>\n",
       "  </thead>\n",
       "  <tbody>\n",
       "    <tr>\n",
       "      <th>0</th>\n",
       "      <td>right</td>\n",
       "      <td>type_3</td>\n",
       "      <td>green</td>\n",
       "      <td>1</td>\n",
       "    </tr>\n",
       "    <tr>\n",
       "      <th>1</th>\n",
       "      <td>left</td>\n",
       "      <td>type_2</td>\n",
       "      <td>blue</td>\n",
       "      <td>1</td>\n",
       "    </tr>\n",
       "    <tr>\n",
       "      <th>2</th>\n",
       "      <td>right</td>\n",
       "      <td>type_2</td>\n",
       "      <td>green</td>\n",
       "      <td>1</td>\n",
       "    </tr>\n",
       "    <tr>\n",
       "      <th>3</th>\n",
       "      <td>right</td>\n",
       "      <td>type_1</td>\n",
       "      <td>red</td>\n",
       "      <td>2</td>\n",
       "    </tr>\n",
       "    <tr>\n",
       "      <th>4</th>\n",
       "      <td>left</td>\n",
       "      <td>type_1</td>\n",
       "      <td>blue</td>\n",
       "      <td>1</td>\n",
       "    </tr>\n",
       "  </tbody>\n",
       "</table>\n",
       "</div>"
      ],
      "text/plain": [
       "  left_right    type  color  label\n",
       "0      right  type_3  green      1\n",
       "1       left  type_2   blue      1\n",
       "2      right  type_2  green      1\n",
       "3      right  type_1    red      2\n",
       "4       left  type_1   blue      1"
      ]
     },
     "execution_count": 13,
     "metadata": {},
     "output_type": "execute_result"
    },
    {
     "data": {
      "application/javascript": [
       "\n",
       "            setTimeout(function() {\n",
       "                var nbb_cell_id = 13;\n",
       "                var nbb_unformatted_code = \"cat_train_data.head()\";\n",
       "                var nbb_formatted_code = \"cat_train_data.head()\";\n",
       "                var nbb_cells = Jupyter.notebook.get_cells();\n",
       "                for (var i = 0; i < nbb_cells.length; ++i) {\n",
       "                    if (nbb_cells[i].input_prompt_number == nbb_cell_id) {\n",
       "                        if (nbb_cells[i].get_text() == nbb_unformatted_code) {\n",
       "                             nbb_cells[i].set_text(nbb_formatted_code);\n",
       "                        }\n",
       "                        break;\n",
       "                    }\n",
       "                }\n",
       "            }, 500);\n",
       "            "
      ],
      "text/plain": [
       "<IPython.core.display.Javascript object>"
      ]
     },
     "metadata": {},
     "output_type": "display_data"
    }
   ],
   "source": [
    "cat_train_data.head()"
   ]
  },
  {
   "cell_type": "code",
   "execution_count": 14,
   "id": "1e529104",
   "metadata": {},
   "outputs": [
    {
     "data": {
      "text/plain": [
       "Text(0.5, 1.0, 'Distribution of \"color\" feature per class')"
      ]
     },
     "execution_count": 14,
     "metadata": {},
     "output_type": "execute_result"
    },
    {
     "data": {
      "image/png": "[encoded data removed]",
      "text/plain": [
       "<Figure size 1296x432 with 3 Axes>"
      ]
     },
     "metadata": {
      "image/png": {
       "height": 389,
       "width": 1060
      },
      "needs_background": "light"
     },
     "output_type": "display_data"
    },
    {
     "data": {
      "application/javascript": [
       "\n",
       "            setTimeout(function() {\n",
       "                var nbb_cell_id = 14;\n",
       "                var nbb_unformatted_code = \"fig, ax = plt.subplots(nrows=1, ncols=3, figsize=(18, 6))\\nsns.countplot(x=\\\"left_right\\\", hue=\\\"label\\\", data=cat_train_data, ax=ax[0])\\nax[0].set_title('Distribution of \\\"left or right\\\" feature per class', fontsize=16)\\nsns.countplot(x=\\\"type\\\", hue=\\\"label\\\", data=cat_train_data, ax=ax[1])\\nax[1].set_title('Distribution of \\\"type\\\" feature per class', fontsize=16)\\nsns.countplot(x=\\\"color\\\", hue=\\\"label\\\", data=cat_train_data, ax=ax[2])\\nax[2].set_title('Distribution of \\\"color\\\" feature per class', fontsize=16)\";\n",
       "                var nbb_formatted_code = \"fig, ax = plt.subplots(nrows=1, ncols=3, figsize=(18, 6))\\nsns.countplot(x=\\\"left_right\\\", hue=\\\"label\\\", data=cat_train_data, ax=ax[0])\\nax[0].set_title('Distribution of \\\"left or right\\\" feature per class', fontsize=16)\\nsns.countplot(x=\\\"type\\\", hue=\\\"label\\\", data=cat_train_data, ax=ax[1])\\nax[1].set_title('Distribution of \\\"type\\\" feature per class', fontsize=16)\\nsns.countplot(x=\\\"color\\\", hue=\\\"label\\\", data=cat_train_data, ax=ax[2])\\nax[2].set_title('Distribution of \\\"color\\\" feature per class', fontsize=16)\";\n",
       "                var nbb_cells = Jupyter.notebook.get_cells();\n",
       "                for (var i = 0; i < nbb_cells.length; ++i) {\n",
       "                    if (nbb_cells[i].input_prompt_number == nbb_cell_id) {\n",
       "                        if (nbb_cells[i].get_text() == nbb_unformatted_code) {\n",
       "                             nbb_cells[i].set_text(nbb_formatted_code);\n",
       "                        }\n",
       "                        break;\n",
       "                    }\n",
       "                }\n",
       "            }, 500);\n",
       "            "
      ],
      "text/plain": [
       "<IPython.core.display.Javascript object>"
      ]
     },
     "metadata": {},
     "output_type": "display_data"
    }
   ],
   "source": [
    "fig, ax = plt.subplots(nrows=1, ncols=3, figsize=(18, 6))\n",
    "sns.countplot(x=\"left_right\", hue=\"label\", data=cat_train_data, ax=ax[0])\n",
    "ax[0].set_title('Distribution of \"left or right\" feature per class', fontsize=16)\n",
    "sns.countplot(x=\"type\", hue=\"label\", data=cat_train_data, ax=ax[1])\n",
    "ax[1].set_title('Distribution of \"type\" feature per class', fontsize=16)\n",
    "sns.countplot(x=\"color\", hue=\"label\", data=cat_train_data, ax=ax[2])\n",
    "ax[2].set_title('Distribution of \"color\" feature per class', fontsize=16)"
   ]
  },
  {
   "cell_type": "code",
   "execution_count": 15,
   "id": "ce74f3f4",
   "metadata": {
    "scrolled": true
   },
   "outputs": [
    {
     "data": {
      "text/plain": [
       "Text(0.5, 1.0, 'Distribution of first five numerical features')"
      ]
     },
     "execution_count": 15,
     "metadata": {},
     "output_type": "execute_result"
    },
    {
     "data": {
      "image/png": "[encoded data removed]",
      "text/plain": [
       "<Figure size 720x432 with 1 Axes>"
      ]
     },
     "metadata": {
      "image/png": {
       "height": 372,
       "width": 600
      },
      "needs_background": "light"
     },
     "output_type": "display_data"
    },
    {
     "data": {
      "application/javascript": [
       "\n",
       "            setTimeout(function() {\n",
       "                var nbb_cell_id = 15;\n",
       "                var nbb_unformatted_code = \"# ====================================\\n# Numerical Feature Exploration\\n# ====================================\\nplt.figure(figsize=(10, 6))\\nsns.boxplot(data=num_features[num_features.columns[:6]])\\nplt.title(\\\"Distribution of first five numerical features\\\")\";\n",
       "                var nbb_formatted_code = \"# ====================================\\n# Numerical Feature Exploration\\n# ====================================\\nplt.figure(figsize=(10, 6))\\nsns.boxplot(data=num_features[num_features.columns[:6]])\\nplt.title(\\\"Distribution of first five numerical features\\\")\";\n",
       "                var nbb_cells = Jupyter.notebook.get_cells();\n",
       "                for (var i = 0; i < nbb_cells.length; ++i) {\n",
       "                    if (nbb_cells[i].input_prompt_number == nbb_cell_id) {\n",
       "                        if (nbb_cells[i].get_text() == nbb_unformatted_code) {\n",
       "                             nbb_cells[i].set_text(nbb_formatted_code);\n",
       "                        }\n",
       "                        break;\n",
       "                    }\n",
       "                }\n",
       "            }, 500);\n",
       "            "
      ],
      "text/plain": [
       "<IPython.core.display.Javascript object>"
      ]
     },
     "metadata": {},
     "output_type": "display_data"
    }
   ],
   "source": [
    "# ====================================\n",
    "# Numerical Feature Exploration\n",
    "# ====================================\n",
    "plt.figure(figsize=(10, 6))\n",
    "sns.boxplot(data=num_features[num_features.columns[:6]])\n",
    "plt.title(\"Distribution of first five numerical features\")"
   ]
  },
  {
   "cell_type": "code",
   "execution_count": 16,
   "id": "740235a5",
   "metadata": {},
   "outputs": [
    {
     "data": {
      "text/plain": [
       "Text(0.5, 1.0, 'Distribution of label')"
      ]
     },
     "execution_count": 16,
     "metadata": {},
     "output_type": "execute_result"
    },
    {
     "data": {
      "image/png": "[encoded data removed]",
      "text/plain": [
       "<Figure size 720x432 with 1 Axes>"
      ]
     },
     "metadata": {
      "image/png": {
       "height": 372,
       "width": 592
      },
      "needs_background": "light"
     },
     "output_type": "display_data"
    },
    {
     "data": {
      "application/javascript": [
       "\n",
       "            setTimeout(function() {\n",
       "                var nbb_cell_id = 16;\n",
       "                var nbb_unformatted_code = \"# ==================\\n# Label Exploration\\n# ==================\\nplt.figure(figsize=(10, 6))\\nlabel_keys = [str(i) for i in label_dist.index]\\nplt.bar(label_keys, label_dist.values)\\nplt.title(\\\"Distribution of label\\\")\";\n",
       "                var nbb_formatted_code = \"# ==================\\n# Label Exploration\\n# ==================\\nplt.figure(figsize=(10, 6))\\nlabel_keys = [str(i) for i in label_dist.index]\\nplt.bar(label_keys, label_dist.values)\\nplt.title(\\\"Distribution of label\\\")\";\n",
       "                var nbb_cells = Jupyter.notebook.get_cells();\n",
       "                for (var i = 0; i < nbb_cells.length; ++i) {\n",
       "                    if (nbb_cells[i].input_prompt_number == nbb_cell_id) {\n",
       "                        if (nbb_cells[i].get_text() == nbb_unformatted_code) {\n",
       "                             nbb_cells[i].set_text(nbb_formatted_code);\n",
       "                        }\n",
       "                        break;\n",
       "                    }\n",
       "                }\n",
       "            }, 500);\n",
       "            "
      ],
      "text/plain": [
       "<IPython.core.display.Javascript object>"
      ]
     },
     "metadata": {},
     "output_type": "display_data"
    }
   ],
   "source": [
    "# ==================\n",
    "# Label Exploration\n",
    "# ==================\n",
    "plt.figure(figsize=(10, 6))\n",
    "label_keys = [str(i) for i in label_dist.index]\n",
    "plt.bar(label_keys, label_dist.values)\n",
    "plt.title(\"Distribution of label\")"
   ]
  },
  {
   "cell_type": "markdown",
   "id": "fa998ed9",
   "metadata": {},
   "source": [
    "### 2. Preprocessing "
   ]
  },
  {
   "cell_type": "code",
   "execution_count": 17,
   "id": "6407535e",
   "metadata": {},
   "outputs": [
    {
     "data": {
      "application/javascript": [
       "\n",
       "            setTimeout(function() {\n",
       "                var nbb_cell_id = 17;\n",
       "                var nbb_unformatted_code = \"# Get categorical and numerical columns\\ncat_cols = [i for i in cat_features.columns]\\nnum_cols = [i for i in num_features.columns]\\n\\n# Preprocessing for numerical data\\nnumerical_transformer  = Pipeline(steps=[('scaler', MinMaxScaler())])\\n\\n# Preprocessing for categorical data\\ncategorical_transformer = Pipeline(steps=[('onehot', OneHotEncoder(handle_unknown='ignore'))\\n])\\n\\n# Bundle preprocessing for numerical and categorical data\\npreprocessor = ColumnTransformer(\\n    transformers=[\\n        ('num', numerical_transformer, num_cols),\\n        ('cat', categorical_transformer, cat_cols)\\n    ])\";\n",
       "                var nbb_formatted_code = \"# Get categorical and numerical columns\\ncat_cols = [i for i in cat_features.columns]\\nnum_cols = [i for i in num_features.columns]\\n\\n# Preprocessing for numerical data\\nnumerical_transformer = Pipeline(steps=[(\\\"scaler\\\", MinMaxScaler())])\\n\\n# Preprocessing for categorical data\\ncategorical_transformer = Pipeline(\\n    steps=[(\\\"onehot\\\", OneHotEncoder(handle_unknown=\\\"ignore\\\"))]\\n)\\n\\n# Bundle preprocessing for numerical and categorical data\\npreprocessor = ColumnTransformer(\\n    transformers=[\\n        (\\\"num\\\", numerical_transformer, num_cols),\\n        (\\\"cat\\\", categorical_transformer, cat_cols),\\n    ]\\n)\";\n",
       "                var nbb_cells = Jupyter.notebook.get_cells();\n",
       "                for (var i = 0; i < nbb_cells.length; ++i) {\n",
       "                    if (nbb_cells[i].input_prompt_number == nbb_cell_id) {\n",
       "                        if (nbb_cells[i].get_text() == nbb_unformatted_code) {\n",
       "                             nbb_cells[i].set_text(nbb_formatted_code);\n",
       "                        }\n",
       "                        break;\n",
       "                    }\n",
       "                }\n",
       "            }, 500);\n",
       "            "
      ],
      "text/plain": [
       "<IPython.core.display.Javascript object>"
      ]
     },
     "metadata": {},
     "output_type": "display_data"
    }
   ],
   "source": [
    "# Get categorical and numerical columns\n",
    "cat_cols = [i for i in cat_features.columns]\n",
    "num_cols = [i for i in num_features.columns]\n",
    "\n",
    "# Preprocessing for numerical data\n",
    "numerical_transformer  = Pipeline(steps=[('scaler', MinMaxScaler())])\n",
    "\n",
    "# Preprocessing for categorical data\n",
    "categorical_transformer = Pipeline(steps=[('onehot', OneHotEncoder(handle_unknown='ignore'))\n",
    "])\n",
    "\n",
    "# Bundle preprocessing for numerical and categorical data\n",
    "preprocessor = ColumnTransformer(\n",
    "    transformers=[\n",
    "        ('num', numerical_transformer, num_cols),\n",
    "        ('cat', categorical_transformer, cat_cols)\n",
    "    ])\n"
   ]
  },
  {
   "cell_type": "code",
   "execution_count": 18,
   "id": "07e49a18",
   "metadata": {},
   "outputs": [
    {
     "data": {
      "text/plain": [
       "ColumnTransformer(transformers=[('num',\n",
       "                                 Pipeline(steps=[('scaler', MinMaxScaler())]),\n",
       "                                 [3, 4, 5, 6, 7, 8, 9, 10, 11, 12, 13, 14, 15,\n",
       "                                  16, 17, 18, 19, 20, 21, 22, 23, 24, 25, 26,\n",
       "                                  27, 28, 29, 30, 31, 32, ...]),\n",
       "                                ('cat',\n",
       "                                 Pipeline(steps=[('onehot',\n",
       "                                                  OneHotEncoder(handle_unknown='ignore'))]),\n",
       "                                 [0, 1, 2])])"
      ]
     },
     "execution_count": 18,
     "metadata": {},
     "output_type": "execute_result"
    },
    {
     "data": {
      "application/javascript": [
       "\n",
       "            setTimeout(function() {\n",
       "                var nbb_cell_id = 18;\n",
       "                var nbb_unformatted_code = \"preprocessor\";\n",
       "                var nbb_formatted_code = \"preprocessor\";\n",
       "                var nbb_cells = Jupyter.notebook.get_cells();\n",
       "                for (var i = 0; i < nbb_cells.length; ++i) {\n",
       "                    if (nbb_cells[i].input_prompt_number == nbb_cell_id) {\n",
       "                        if (nbb_cells[i].get_text() == nbb_unformatted_code) {\n",
       "                             nbb_cells[i].set_text(nbb_formatted_code);\n",
       "                        }\n",
       "                        break;\n",
       "                    }\n",
       "                }\n",
       "            }, 500);\n",
       "            "
      ],
      "text/plain": [
       "<IPython.core.display.Javascript object>"
      ]
     },
     "metadata": {},
     "output_type": "display_data"
    }
   ],
   "source": [
    "preprocessor"
   ]
  },
  {
   "cell_type": "markdown",
   "id": "7c778f31",
   "metadata": {},
   "source": [
    "### 3. Model and Hyperparameter Tuning"
   ]
  },
  {
   "cell_type": "markdown",
   "id": "3d7ee941",
   "metadata": {},
   "source": [
    "#### 3a. Pretuned XGB Classfier"
   ]
  },
  {
   "cell_type": "code",
   "execution_count": 19,
   "id": "3834ed60",
   "metadata": {},
   "outputs": [
    {
     "data": {
      "application/javascript": [
       "\n",
       "            setTimeout(function() {\n",
       "                var nbb_cell_id = 19;\n",
       "                var nbb_unformatted_code = \"x_train, x_val, y_train, y_val = train_test_split(x, y, random_state=0, stratify=y)\";\n",
       "                var nbb_formatted_code = \"x_train, x_val, y_train, y_val = train_test_split(x, y, random_state=0, stratify=y)\";\n",
       "                var nbb_cells = Jupyter.notebook.get_cells();\n",
       "                for (var i = 0; i < nbb_cells.length; ++i) {\n",
       "                    if (nbb_cells[i].input_prompt_number == nbb_cell_id) {\n",
       "                        if (nbb_cells[i].get_text() == nbb_unformatted_code) {\n",
       "                             nbb_cells[i].set_text(nbb_formatted_code);\n",
       "                        }\n",
       "                        break;\n",
       "                    }\n",
       "                }\n",
       "            }, 500);\n",
       "            "
      ],
      "text/plain": [
       "<IPython.core.display.Javascript object>"
      ]
     },
     "metadata": {},
     "output_type": "display_data"
    }
   ],
   "source": [
    "x_train, x_val, y_train, y_val = train_test_split(x, y, random_state=0, stratify=y)"
   ]
  },
  {
   "cell_type": "code",
   "execution_count": 20,
   "id": "fe5b7af3",
   "metadata": {},
   "outputs": [
    {
     "data": {
      "application/javascript": [
       "\n",
       "            setTimeout(function() {\n",
       "                var nbb_cell_id = 20;\n",
       "                var nbb_unformatted_code = \"def plot_confusion_matrix(cm, classes, normalized=True, cmap=\\\"bone\\\"):\\n    \\\"\\\"\\\"\\n    Plots Confusion Matrix\\n    \\n    Params\\n    ======\\n    cm: color map \\n    classes: array of labels \\n    \\n    Returns\\n    ======\\n    None\\n    \\\"\\\"\\\"\\n    plt.figure(figsize=[7, 6])\\n    norm_cm = cm\\n    if normalized:\\n        norm_cm = cm.astype(\\\"float\\\") / cm.sum(axis=1)[:, np.newaxis]\\n        sns.heatmap(\\n            norm_cm,\\n            annot=cm,\\n            fmt=\\\"g\\\",\\n            xticklabels=classes,\\n            yticklabels=classes,\\n            cmap=cmap,\\n        )\";\n",
       "                var nbb_formatted_code = \"def plot_confusion_matrix(cm, classes, normalized=True, cmap=\\\"bone\\\"):\\n    \\\"\\\"\\\"\\n    Plots Confusion Matrix\\n    \\n    Params\\n    ======\\n    cm: color map \\n    classes: array of labels \\n    \\n    Returns\\n    ======\\n    None\\n    \\\"\\\"\\\"\\n    plt.figure(figsize=[7, 6])\\n    norm_cm = cm\\n    if normalized:\\n        norm_cm = cm.astype(\\\"float\\\") / cm.sum(axis=1)[:, np.newaxis]\\n        sns.heatmap(\\n            norm_cm,\\n            annot=cm,\\n            fmt=\\\"g\\\",\\n            xticklabels=classes,\\n            yticklabels=classes,\\n            cmap=cmap,\\n        )\";\n",
       "                var nbb_cells = Jupyter.notebook.get_cells();\n",
       "                for (var i = 0; i < nbb_cells.length; ++i) {\n",
       "                    if (nbb_cells[i].input_prompt_number == nbb_cell_id) {\n",
       "                        if (nbb_cells[i].get_text() == nbb_unformatted_code) {\n",
       "                             nbb_cells[i].set_text(nbb_formatted_code);\n",
       "                        }\n",
       "                        break;\n",
       "                    }\n",
       "                }\n",
       "            }, 500);\n",
       "            "
      ],
      "text/plain": [
       "<IPython.core.display.Javascript object>"
      ]
     },
     "metadata": {},
     "output_type": "display_data"
    }
   ],
   "source": [
    "def plot_confusion_matrix(cm, classes, normalized=True, cmap=\"bone\"):\n",
    "    \"\"\"\n",
    "    Plots Confusion Matrix\n",
    "    \n",
    "    Params\n",
    "    ======\n",
    "    cm: color map \n",
    "    classes: array of labels \n",
    "    \n",
    "    Returns\n",
    "    ======\n",
    "    None\n",
    "    \"\"\"\n",
    "    plt.figure(figsize=[7, 6])\n",
    "    norm_cm = cm\n",
    "    if normalized:\n",
    "        norm_cm = cm.astype(\"float\") / cm.sum(axis=1)[:, np.newaxis]\n",
    "        sns.heatmap(\n",
    "            norm_cm,\n",
    "            annot=cm,\n",
    "            fmt=\"g\",\n",
    "            xticklabels=classes,\n",
    "            yticklabels=classes,\n",
    "            cmap=cmap,\n",
    "        )"
   ]
  },
  {
   "cell_type": "code",
   "execution_count": 21,
   "id": "064dfc1f",
   "metadata": {},
   "outputs": [
    {
     "data": {
      "application/javascript": [
       "\n",
       "            setTimeout(function() {\n",
       "                var nbb_cell_id = 21;\n",
       "                var nbb_unformatted_code = \"def get_prediction_and_metrics(x_train, y_train, x_val, y_val, model):\\n    \\\"\\\"\\\"\\n    Get predictions and prints classification report \\n    \\n    Params\\n    =======\\n    x_train: train set\\n    y_train: train label \\n    x_val: validation set \\n    y_val: validation label\\n    \\n    Returns\\n    =======\\n    y_pred: predictions on validation set\\n    \\\"\\\"\\\"\\n    model_xgb = model.fit(preprocessor.fit_transform(x_train), y_train)\\n    y_pred = model_xgb.predict(preprocessor.fit_transform(x_val))\\n    frog_cm = confusion_matrix(y_val, y_pred)\\n    print(classification_report(y_val, y_pred,))\\n    plot_confusion_matrix(frog_cm, classes=[\\\"class \\\" + str(i) for i in label_keys])\\n    return y_pred\";\n",
       "                var nbb_formatted_code = \"def get_prediction_and_metrics(x_train, y_train, x_val, y_val, model):\\n    \\\"\\\"\\\"\\n    Get predictions and prints classification report \\n    \\n    Params\\n    =======\\n    x_train: train set\\n    y_train: train label \\n    x_val: validation set \\n    y_val: validation label\\n    \\n    Returns\\n    =======\\n    y_pred: predictions on validation set\\n    \\\"\\\"\\\"\\n    model_xgb = model.fit(preprocessor.fit_transform(x_train), y_train)\\n    y_pred = model_xgb.predict(preprocessor.fit_transform(x_val))\\n    frog_cm = confusion_matrix(y_val, y_pred)\\n    print(classification_report(y_val, y_pred,))\\n    plot_confusion_matrix(frog_cm, classes=[\\\"class \\\" + str(i) for i in label_keys])\\n    return y_pred\";\n",
       "                var nbb_cells = Jupyter.notebook.get_cells();\n",
       "                for (var i = 0; i < nbb_cells.length; ++i) {\n",
       "                    if (nbb_cells[i].input_prompt_number == nbb_cell_id) {\n",
       "                        if (nbb_cells[i].get_text() == nbb_unformatted_code) {\n",
       "                             nbb_cells[i].set_text(nbb_formatted_code);\n",
       "                        }\n",
       "                        break;\n",
       "                    }\n",
       "                }\n",
       "            }, 500);\n",
       "            "
      ],
      "text/plain": [
       "<IPython.core.display.Javascript object>"
      ]
     },
     "metadata": {},
     "output_type": "display_data"
    }
   ],
   "source": [
    "def get_prediction_and_metrics(x_train, y_train, x_val, y_val, model):\n",
    "    \"\"\"\n",
    "    Get predictions and prints classification report \n",
    "    \n",
    "    Params\n",
    "    =======\n",
    "    x_train: train set\n",
    "    y_train: train label \n",
    "    x_val: validation set \n",
    "    y_val: validation label\n",
    "    \n",
    "    Returns\n",
    "    =======\n",
    "    y_pred: predictions on validation set\n",
    "    \"\"\"\n",
    "    model_xgb = model.fit(preprocessor.fit_transform(x_train), y_train)\n",
    "    y_pred = model_xgb.predict(preprocessor.fit_transform(x_val))\n",
    "    frog_cm = confusion_matrix(y_val, y_pred)\n",
    "    print(classification_report(y_val, y_pred,))\n",
    "    plot_confusion_matrix(frog_cm, classes=[\"class \" + str(i) for i in label_keys])\n",
    "    return y_pred"
   ]
  },
  {
   "cell_type": "code",
   "execution_count": 22,
   "id": "0be72d23",
   "metadata": {},
   "outputs": [
    {
     "data": {
      "application/javascript": [
       "\n",
       "            setTimeout(function() {\n",
       "                var nbb_cell_id = 22;\n",
       "                var nbb_unformatted_code = \"pretuned_xgb = xgb.XGBClassifier()\";\n",
       "                var nbb_formatted_code = \"pretuned_xgb = xgb.XGBClassifier()\";\n",
       "                var nbb_cells = Jupyter.notebook.get_cells();\n",
       "                for (var i = 0; i < nbb_cells.length; ++i) {\n",
       "                    if (nbb_cells[i].input_prompt_number == nbb_cell_id) {\n",
       "                        if (nbb_cells[i].get_text() == nbb_unformatted_code) {\n",
       "                             nbb_cells[i].set_text(nbb_formatted_code);\n",
       "                        }\n",
       "                        break;\n",
       "                    }\n",
       "                }\n",
       "            }, 500);\n",
       "            "
      ],
      "text/plain": [
       "<IPython.core.display.Javascript object>"
      ]
     },
     "metadata": {},
     "output_type": "display_data"
    }
   ],
   "source": [
    "pretuned_xgb = xgb.XGBClassifier()"
   ]
  },
  {
   "cell_type": "code",
   "execution_count": 23,
   "id": "4d029a00",
   "metadata": {},
   "outputs": [
    {
     "name": "stdout",
     "output_type": "stream",
     "text": [
      "              precision    recall  f1-score   support\n",
      "\n",
      "           0       0.75      0.75      0.75         4\n",
      "           1       0.91      0.95      0.93        21\n",
      "           2       1.00      0.90      0.95        10\n",
      "\n",
      "    accuracy                           0.91        35\n",
      "   macro avg       0.89      0.87      0.88        35\n",
      "weighted avg       0.92      0.91      0.91        35\n",
      "\n"
     ]
    },
    {
     "data": {
      "image/png": "[encoded data removed]",
      "text/plain": [
       "<Figure size 504x432 with 2 Axes>"
      ]
     },
     "metadata": {
      "image/png": {
       "height": 357,
       "width": 402
      },
      "needs_background": "light"
     },
     "output_type": "display_data"
    },
    {
     "data": {
      "application/javascript": [
       "\n",
       "            setTimeout(function() {\n",
       "                var nbb_cell_id = 23;\n",
       "                var nbb_unformatted_code = \"pretuned_y_pred = get_prediction_and_metrics(\\n    x_train, y_train, x_val, y_val, model=pretuned_xgb\\n)\";\n",
       "                var nbb_formatted_code = \"pretuned_y_pred = get_prediction_and_metrics(\\n    x_train, y_train, x_val, y_val, model=pretuned_xgb\\n)\";\n",
       "                var nbb_cells = Jupyter.notebook.get_cells();\n",
       "                for (var i = 0; i < nbb_cells.length; ++i) {\n",
       "                    if (nbb_cells[i].input_prompt_number == nbb_cell_id) {\n",
       "                        if (nbb_cells[i].get_text() == nbb_unformatted_code) {\n",
       "                             nbb_cells[i].set_text(nbb_formatted_code);\n",
       "                        }\n",
       "                        break;\n",
       "                    }\n",
       "                }\n",
       "            }, 500);\n",
       "            "
      ],
      "text/plain": [
       "<IPython.core.display.Javascript object>"
      ]
     },
     "metadata": {},
     "output_type": "display_data"
    }
   ],
   "source": [
    "pretuned_y_pred = get_prediction_and_metrics(\n",
    "    x_train, y_train, x_val, y_val, model=pretuned_xgb\n",
    ")"
   ]
  },
  {
   "cell_type": "markdown",
   "id": "162dc9b4",
   "metadata": {},
   "source": [
    "#### 3b. Tuned XGB classifier"
   ]
  },
  {
   "cell_type": "code",
   "execution_count": 24,
   "id": "a8c088dd",
   "metadata": {},
   "outputs": [
    {
     "data": {
      "application/javascript": [
       "\n",
       "            setTimeout(function() {\n",
       "                var nbb_cell_id = 24;\n",
       "                var nbb_unformatted_code = \"param_grid = {\\n    \\\"learning_rate\\\": [0.01, 0.1, 0.5, 1],\\n    \\\"max_depth\\\": [3, 5, 6, 7],\\n    \\\"subsample\\\": [0.5, 0.8, 1],\\n    \\\"n_estimators\\\": [10, 50, 100, 300],\\n}\\n\\ngrid_cv = GridSearchCV(\\n    estimator=xgb.XGBClassifier(), param_grid=param_grid, cv=5, scoring=\\\"accuracy\\\"\\n)\";\n",
       "                var nbb_formatted_code = \"param_grid = {\\n    \\\"learning_rate\\\": [0.01, 0.1, 0.5, 1],\\n    \\\"max_depth\\\": [3, 5, 6, 7],\\n    \\\"subsample\\\": [0.5, 0.8, 1],\\n    \\\"n_estimators\\\": [10, 50, 100, 300],\\n}\\n\\ngrid_cv = GridSearchCV(\\n    estimator=xgb.XGBClassifier(), param_grid=param_grid, cv=5, scoring=\\\"accuracy\\\"\\n)\";\n",
       "                var nbb_cells = Jupyter.notebook.get_cells();\n",
       "                for (var i = 0; i < nbb_cells.length; ++i) {\n",
       "                    if (nbb_cells[i].input_prompt_number == nbb_cell_id) {\n",
       "                        if (nbb_cells[i].get_text() == nbb_unformatted_code) {\n",
       "                             nbb_cells[i].set_text(nbb_formatted_code);\n",
       "                        }\n",
       "                        break;\n",
       "                    }\n",
       "                }\n",
       "            }, 500);\n",
       "            "
      ],
      "text/plain": [
       "<IPython.core.display.Javascript object>"
      ]
     },
     "metadata": {},
     "output_type": "display_data"
    }
   ],
   "source": [
    "param_grid = {\n",
    "    \"learning_rate\": [0.01, 0.1, 0.5, 1],\n",
    "    \"max_depth\": [3, 5, 6, 7],\n",
    "    \"subsample\": [0.5, 0.8, 1],\n",
    "    \"n_estimators\": [10, 50, 100, 300],\n",
    "}\n",
    "\n",
    "grid_cv = GridSearchCV(\n",
    "    estimator=xgb.XGBClassifier(), param_grid=param_grid, cv=5, scoring=\"accuracy\"\n",
    ")"
   ]
  },
  {
   "cell_type": "code",
   "execution_count": 25,
   "id": "6f0e8736",
   "metadata": {},
   "outputs": [
    {
     "data": {
      "text/plain": [
       "GridSearchCV(cv=5,\n",
       "             estimator=XGBClassifier(base_score=None, booster=None,\n",
       "                                     callbacks=None, colsample_bylevel=None,\n",
       "                                     colsample_bynode=None,\n",
       "                                     colsample_bytree=None,\n",
       "                                     early_stopping_rounds=None,\n",
       "                                     enable_categorical=False, eval_metric=None,\n",
       "                                     feature_types=None, gamma=None,\n",
       "                                     gpu_id=None, grow_policy=None,\n",
       "                                     importance_type=None,\n",
       "                                     interaction_constraints=None,\n",
       "                                     learning_rate=None,...\n",
       "                                     max_cat_to_onehot=None,\n",
       "                                     max_delta_step=None, max_depth=None,\n",
       "                                     max_leaves=None, min_child_weight=None,\n",
       "                                     missing=nan, monotone_constraints=None,\n",
       "                                     n_estimators=100, n_jobs=None,\n",
       "                                     num_parallel_tree=None, predictor=None,\n",
       "                                     random_state=None, ...),\n",
       "             param_grid={'learning_rate': [0.01, 0.1, 0.5, 1],\n",
       "                         'max_depth': [3, 5, 6, 7],\n",
       "                         'n_estimators': [10, 50, 100, 300],\n",
       "                         'subsample': [0.5, 0.8, 1]},\n",
       "             scoring='accuracy')"
      ]
     },
     "execution_count": 25,
     "metadata": {},
     "output_type": "execute_result"
    },
    {
     "data": {
      "application/javascript": [
       "\n",
       "            setTimeout(function() {\n",
       "                var nbb_cell_id = 25;\n",
       "                var nbb_unformatted_code = \"grid_cv.fit(preprocessor.fit_transform(x_train), y_train)\";\n",
       "                var nbb_formatted_code = \"grid_cv.fit(preprocessor.fit_transform(x_train), y_train)\";\n",
       "                var nbb_cells = Jupyter.notebook.get_cells();\n",
       "                for (var i = 0; i < nbb_cells.length; ++i) {\n",
       "                    if (nbb_cells[i].input_prompt_number == nbb_cell_id) {\n",
       "                        if (nbb_cells[i].get_text() == nbb_unformatted_code) {\n",
       "                             nbb_cells[i].set_text(nbb_formatted_code);\n",
       "                        }\n",
       "                        break;\n",
       "                    }\n",
       "                }\n",
       "            }, 500);\n",
       "            "
      ],
      "text/plain": [
       "<IPython.core.display.Javascript object>"
      ]
     },
     "metadata": {},
     "output_type": "display_data"
    }
   ],
   "source": [
    "grid_cv.fit(preprocessor.fit_transform(x_train), y_train)"
   ]
  },
  {
   "cell_type": "code",
   "execution_count": 26,
   "id": "1dfdf7be",
   "metadata": {},
   "outputs": [
    {
     "data": {
      "text/plain": [
       "{'learning_rate': 0.1, 'max_depth': 3, 'n_estimators': 50, 'subsample': 0.5}"
      ]
     },
     "execution_count": 26,
     "metadata": {},
     "output_type": "execute_result"
    },
    {
     "data": {
      "application/javascript": [
       "\n",
       "            setTimeout(function() {\n",
       "                var nbb_cell_id = 26;\n",
       "                var nbb_unformatted_code = \"grid_cv.best_params_\";\n",
       "                var nbb_formatted_code = \"grid_cv.best_params_\";\n",
       "                var nbb_cells = Jupyter.notebook.get_cells();\n",
       "                for (var i = 0; i < nbb_cells.length; ++i) {\n",
       "                    if (nbb_cells[i].input_prompt_number == nbb_cell_id) {\n",
       "                        if (nbb_cells[i].get_text() == nbb_unformatted_code) {\n",
       "                             nbb_cells[i].set_text(nbb_formatted_code);\n",
       "                        }\n",
       "                        break;\n",
       "                    }\n",
       "                }\n",
       "            }, 500);\n",
       "            "
      ],
      "text/plain": [
       "<IPython.core.display.Javascript object>"
      ]
     },
     "metadata": {},
     "output_type": "display_data"
    }
   ],
   "source": [
    "grid_cv.best_params_"
   ]
  },
  {
   "cell_type": "code",
   "execution_count": 27,
   "id": "e2b84ab7",
   "metadata": {},
   "outputs": [
    {
     "data": {
      "application/javascript": [
       "\n",
       "            setTimeout(function() {\n",
       "                var nbb_cell_id = 27;\n",
       "                var nbb_unformatted_code = \"tuned_xgb = grid_cv.best_estimator_\";\n",
       "                var nbb_formatted_code = \"tuned_xgb = grid_cv.best_estimator_\";\n",
       "                var nbb_cells = Jupyter.notebook.get_cells();\n",
       "                for (var i = 0; i < nbb_cells.length; ++i) {\n",
       "                    if (nbb_cells[i].input_prompt_number == nbb_cell_id) {\n",
       "                        if (nbb_cells[i].get_text() == nbb_unformatted_code) {\n",
       "                             nbb_cells[i].set_text(nbb_formatted_code);\n",
       "                        }\n",
       "                        break;\n",
       "                    }\n",
       "                }\n",
       "            }, 500);\n",
       "            "
      ],
      "text/plain": [
       "<IPython.core.display.Javascript object>"
      ]
     },
     "metadata": {},
     "output_type": "display_data"
    }
   ],
   "source": [
    "tuned_xgb = grid_cv.best_estimator_"
   ]
  },
  {
   "cell_type": "code",
   "execution_count": 28,
   "id": "ff024c69",
   "metadata": {},
   "outputs": [
    {
     "name": "stdout",
     "output_type": "stream",
     "text": [
      "              precision    recall  f1-score   support\n",
      "\n",
      "           0       1.00      0.25      0.40         4\n",
      "           1       0.81      1.00      0.89        21\n",
      "           2       1.00      0.80      0.89        10\n",
      "\n",
      "    accuracy                           0.86        35\n",
      "   macro avg       0.94      0.68      0.73        35\n",
      "weighted avg       0.88      0.86      0.84        35\n",
      "\n"
     ]
    },
    {
     "data": {
      "image/png": "[encoded data removed]",
      "text/plain": [
       "<Figure size 504x432 with 2 Axes>"
      ]
     },
     "metadata": {
      "image/png": {
       "height": 360,
       "width": 402
      },
      "needs_background": "light"
     },
     "output_type": "display_data"
    },
    {
     "data": {
      "application/javascript": [
       "\n",
       "            setTimeout(function() {\n",
       "                var nbb_cell_id = 28;\n",
       "                var nbb_unformatted_code = \"tuned_y_pred = get_prediction_and_metrics(\\n    x_train, y_train, x_val, y_val, model=tuned_xgb\\n)\";\n",
       "                var nbb_formatted_code = \"tuned_y_pred = get_prediction_and_metrics(\\n    x_train, y_train, x_val, y_val, model=tuned_xgb\\n)\";\n",
       "                var nbb_cells = Jupyter.notebook.get_cells();\n",
       "                for (var i = 0; i < nbb_cells.length; ++i) {\n",
       "                    if (nbb_cells[i].input_prompt_number == nbb_cell_id) {\n",
       "                        if (nbb_cells[i].get_text() == nbb_unformatted_code) {\n",
       "                             nbb_cells[i].set_text(nbb_formatted_code);\n",
       "                        }\n",
       "                        break;\n",
       "                    }\n",
       "                }\n",
       "            }, 500);\n",
       "            "
      ],
      "text/plain": [
       "<IPython.core.display.Javascript object>"
      ]
     },
     "metadata": {},
     "output_type": "display_data"
    }
   ],
   "source": [
    "tuned_y_pred = get_prediction_and_metrics(\n",
    "    x_train, y_train, x_val, y_val, model=tuned_xgb\n",
    ")"
   ]
  },
  {
   "cell_type": "code",
   "execution_count": null,
   "id": "1457eb35",
   "metadata": {},
   "outputs": [],
   "source": []
  },
  {
   "cell_type": "markdown",
   "id": "e914f021",
   "metadata": {},
   "source": [
    "#### 3c. Tuned XGB classifier with Data Imbalance Weighting "
   ]
  },
  {
   "cell_type": "code",
   "execution_count": 29,
   "id": "b63aed57",
   "metadata": {},
   "outputs": [
    {
     "data": {
      "application/javascript": [
       "\n",
       "            setTimeout(function() {\n",
       "                var nbb_cell_id = 29;\n",
       "                var nbb_unformatted_code = \"classes_weights = class_weight.compute_sample_weight(\\n    class_weight=\\\"balanced\\\", y=y_train[0]\\n)\";\n",
       "                var nbb_formatted_code = \"classes_weights = class_weight.compute_sample_weight(\\n    class_weight=\\\"balanced\\\", y=y_train[0]\\n)\";\n",
       "                var nbb_cells = Jupyter.notebook.get_cells();\n",
       "                for (var i = 0; i < nbb_cells.length; ++i) {\n",
       "                    if (nbb_cells[i].input_prompt_number == nbb_cell_id) {\n",
       "                        if (nbb_cells[i].get_text() == nbb_unformatted_code) {\n",
       "                             nbb_cells[i].set_text(nbb_formatted_code);\n",
       "                        }\n",
       "                        break;\n",
       "                    }\n",
       "                }\n",
       "            }, 500);\n",
       "            "
      ],
      "text/plain": [
       "<IPython.core.display.Javascript object>"
      ]
     },
     "metadata": {},
     "output_type": "display_data"
    }
   ],
   "source": [
    "classes_weights = class_weight.compute_sample_weight(\n",
    "    class_weight=\"balanced\", y=y_train[0]\n",
    ")"
   ]
  },
  {
   "cell_type": "code",
   "execution_count": 30,
   "id": "476fe48c",
   "metadata": {},
   "outputs": [
    {
     "data": {
      "application/javascript": [
       "\n",
       "            setTimeout(function() {\n",
       "                var nbb_cell_id = 30;\n",
       "                var nbb_unformatted_code = \"dtrain = xgb.DMatrix(\\n    data=preprocessor.transform(x_train), label=y_train, weight=classes_weights\\n)\\ndval = xgb.DMatrix(data=preprocessor.transform(x_val))\";\n",
       "                var nbb_formatted_code = \"dtrain = xgb.DMatrix(\\n    data=preprocessor.transform(x_train), label=y_train, weight=classes_weights\\n)\\ndval = xgb.DMatrix(data=preprocessor.transform(x_val))\";\n",
       "                var nbb_cells = Jupyter.notebook.get_cells();\n",
       "                for (var i = 0; i < nbb_cells.length; ++i) {\n",
       "                    if (nbb_cells[i].input_prompt_number == nbb_cell_id) {\n",
       "                        if (nbb_cells[i].get_text() == nbb_unformatted_code) {\n",
       "                             nbb_cells[i].set_text(nbb_formatted_code);\n",
       "                        }\n",
       "                        break;\n",
       "                    }\n",
       "                }\n",
       "            }, 500);\n",
       "            "
      ],
      "text/plain": [
       "<IPython.core.display.Javascript object>"
      ]
     },
     "metadata": {},
     "output_type": "display_data"
    }
   ],
   "source": [
    "dtrain = xgb.DMatrix(\n",
    "    data=preprocessor.transform(x_train), label=y_train, weight=classes_weights\n",
    ")\n",
    "dval = xgb.DMatrix(data=preprocessor.transform(x_val))"
   ]
  },
  {
   "cell_type": "code",
   "execution_count": 31,
   "id": "96daec66",
   "metadata": {},
   "outputs": [
    {
     "data": {
      "application/javascript": [
       "\n",
       "            setTimeout(function() {\n",
       "                var nbb_cell_id = 31;\n",
       "                var nbb_unformatted_code = \"best_params = grid_cv.best_params_.copy()\";\n",
       "                var nbb_formatted_code = \"best_params = grid_cv.best_params_.copy()\";\n",
       "                var nbb_cells = Jupyter.notebook.get_cells();\n",
       "                for (var i = 0; i < nbb_cells.length; ++i) {\n",
       "                    if (nbb_cells[i].input_prompt_number == nbb_cell_id) {\n",
       "                        if (nbb_cells[i].get_text() == nbb_unformatted_code) {\n",
       "                             nbb_cells[i].set_text(nbb_formatted_code);\n",
       "                        }\n",
       "                        break;\n",
       "                    }\n",
       "                }\n",
       "            }, 500);\n",
       "            "
      ],
      "text/plain": [
       "<IPython.core.display.Javascript object>"
      ]
     },
     "metadata": {},
     "output_type": "display_data"
    }
   ],
   "source": [
    "best_params = grid_cv.best_params_.copy()"
   ]
  },
  {
   "cell_type": "code",
   "execution_count": 32,
   "id": "dd762613",
   "metadata": {},
   "outputs": [
    {
     "data": {
      "text/plain": [
       "50"
      ]
     },
     "execution_count": 32,
     "metadata": {},
     "output_type": "execute_result"
    },
    {
     "data": {
      "application/javascript": [
       "\n",
       "            setTimeout(function() {\n",
       "                var nbb_cell_id = 32;\n",
       "                var nbb_unformatted_code = \"best_params[\\\"num_parallel_tree\\\"] = best_params[\\\"n_estimators\\\"]\\nbest_params.pop(\\\"n_estimators\\\")\";\n",
       "                var nbb_formatted_code = \"best_params[\\\"num_parallel_tree\\\"] = best_params[\\\"n_estimators\\\"]\\nbest_params.pop(\\\"n_estimators\\\")\";\n",
       "                var nbb_cells = Jupyter.notebook.get_cells();\n",
       "                for (var i = 0; i < nbb_cells.length; ++i) {\n",
       "                    if (nbb_cells[i].input_prompt_number == nbb_cell_id) {\n",
       "                        if (nbb_cells[i].get_text() == nbb_unformatted_code) {\n",
       "                             nbb_cells[i].set_text(nbb_formatted_code);\n",
       "                        }\n",
       "                        break;\n",
       "                    }\n",
       "                }\n",
       "            }, 500);\n",
       "            "
      ],
      "text/plain": [
       "<IPython.core.display.Javascript object>"
      ]
     },
     "metadata": {},
     "output_type": "display_data"
    }
   ],
   "source": [
    "best_params[\"num_parallel_tree\"] = best_params[\"n_estimators\"]\n",
    "best_params.pop(\"n_estimators\")"
   ]
  },
  {
   "cell_type": "code",
   "execution_count": 33,
   "id": "9671b3c2",
   "metadata": {},
   "outputs": [
    {
     "data": {
      "application/javascript": [
       "\n",
       "            setTimeout(function() {\n",
       "                var nbb_cell_id = 33;\n",
       "                var nbb_unformatted_code = \"params = {\\n    \\\"objective\\\": \\\"multi:softmax\\\",  # error evaluation for multiclass training\\n    \\\"num_class\\\": 3,\\n    \\\"n_jobs\\\": -1,\\n    **best_params,\\n}\\nbst = xgb.train(params, dtrain)\";\n",
       "                var nbb_formatted_code = \"params = {\\n    \\\"objective\\\": \\\"multi:softmax\\\",  # error evaluation for multiclass training\\n    \\\"num_class\\\": 3,\\n    \\\"n_jobs\\\": -1,\\n    **best_params,\\n}\\nbst = xgb.train(params, dtrain)\";\n",
       "                var nbb_cells = Jupyter.notebook.get_cells();\n",
       "                for (var i = 0; i < nbb_cells.length; ++i) {\n",
       "                    if (nbb_cells[i].input_prompt_number == nbb_cell_id) {\n",
       "                        if (nbb_cells[i].get_text() == nbb_unformatted_code) {\n",
       "                             nbb_cells[i].set_text(nbb_formatted_code);\n",
       "                        }\n",
       "                        break;\n",
       "                    }\n",
       "                }\n",
       "            }, 500);\n",
       "            "
      ],
      "text/plain": [
       "<IPython.core.display.Javascript object>"
      ]
     },
     "metadata": {},
     "output_type": "display_data"
    }
   ],
   "source": [
    "params = {\n",
    "    \"objective\": \"multi:softmax\",  # error evaluation for multiclass training\n",
    "    \"num_class\": 3,\n",
    "    \"n_jobs\": -1,\n",
    "    **best_params,\n",
    "}\n",
    "bst = xgb.train(params, dtrain)"
   ]
  },
  {
   "cell_type": "code",
   "execution_count": 34,
   "id": "36570744",
   "metadata": {},
   "outputs": [
    {
     "data": {
      "application/javascript": [
       "\n",
       "            setTimeout(function() {\n",
       "                var nbb_cell_id = 34;\n",
       "                var nbb_unformatted_code = \"pred = bst.predict(dval)\";\n",
       "                var nbb_formatted_code = \"pred = bst.predict(dval)\";\n",
       "                var nbb_cells = Jupyter.notebook.get_cells();\n",
       "                for (var i = 0; i < nbb_cells.length; ++i) {\n",
       "                    if (nbb_cells[i].input_prompt_number == nbb_cell_id) {\n",
       "                        if (nbb_cells[i].get_text() == nbb_unformatted_code) {\n",
       "                             nbb_cells[i].set_text(nbb_formatted_code);\n",
       "                        }\n",
       "                        break;\n",
       "                    }\n",
       "                }\n",
       "            }, 500);\n",
       "            "
      ],
      "text/plain": [
       "<IPython.core.display.Javascript object>"
      ]
     },
     "metadata": {},
     "output_type": "display_data"
    }
   ],
   "source": [
    "pred = bst.predict(dval)"
   ]
  },
  {
   "cell_type": "code",
   "execution_count": 35,
   "id": "e7d19d3f",
   "metadata": {},
   "outputs": [
    {
     "name": "stdout",
     "output_type": "stream",
     "text": [
      "              precision    recall  f1-score   support\n",
      "\n",
      "           0       1.00      0.50      0.67         4\n",
      "           1       0.78      1.00      0.88        21\n",
      "           2       1.00      0.60      0.75        10\n",
      "\n",
      "    accuracy                           0.83        35\n",
      "   macro avg       0.93      0.70      0.76        35\n",
      "weighted avg       0.87      0.83      0.82        35\n",
      "\n"
     ]
    },
    {
     "data": {
      "application/javascript": [
       "\n",
       "            setTimeout(function() {\n",
       "                var nbb_cell_id = 35;\n",
       "                var nbb_unformatted_code = \"print(classification_report(y_val, pred,))\";\n",
       "                var nbb_formatted_code = \"print(classification_report(y_val, pred,))\";\n",
       "                var nbb_cells = Jupyter.notebook.get_cells();\n",
       "                for (var i = 0; i < nbb_cells.length; ++i) {\n",
       "                    if (nbb_cells[i].input_prompt_number == nbb_cell_id) {\n",
       "                        if (nbb_cells[i].get_text() == nbb_unformatted_code) {\n",
       "                             nbb_cells[i].set_text(nbb_formatted_code);\n",
       "                        }\n",
       "                        break;\n",
       "                    }\n",
       "                }\n",
       "            }, 500);\n",
       "            "
      ],
      "text/plain": [
       "<IPython.core.display.Javascript object>"
      ]
     },
     "metadata": {},
     "output_type": "display_data"
    }
   ],
   "source": [
    "print(classification_report(y_val, pred,))"
   ]
  },
  {
   "cell_type": "code",
   "execution_count": 36,
   "id": "35f5ed9a",
   "metadata": {},
   "outputs": [
    {
     "data": {
      "application/javascript": [
       "\n",
       "            setTimeout(function() {\n",
       "                var nbb_cell_id = 36;\n",
       "                var nbb_unformatted_code = \"frog_cm = confusion_matrix(y_val, pred)\";\n",
       "                var nbb_formatted_code = \"frog_cm = confusion_matrix(y_val, pred)\";\n",
       "                var nbb_cells = Jupyter.notebook.get_cells();\n",
       "                for (var i = 0; i < nbb_cells.length; ++i) {\n",
       "                    if (nbb_cells[i].input_prompt_number == nbb_cell_id) {\n",
       "                        if (nbb_cells[i].get_text() == nbb_unformatted_code) {\n",
       "                             nbb_cells[i].set_text(nbb_formatted_code);\n",
       "                        }\n",
       "                        break;\n",
       "                    }\n",
       "                }\n",
       "            }, 500);\n",
       "            "
      ],
      "text/plain": [
       "<IPython.core.display.Javascript object>"
      ]
     },
     "metadata": {},
     "output_type": "display_data"
    }
   ],
   "source": [
    "frog_cm = confusion_matrix(y_val, pred)"
   ]
  },
  {
   "cell_type": "code",
   "execution_count": 37,
   "id": "580b7b3d",
   "metadata": {},
   "outputs": [
    {
     "data": {
      "image/png": "[encoded data removed]",
      "text/plain": [
       "<Figure size 504x432 with 2 Axes>"
      ]
     },
     "metadata": {
      "image/png": {
       "height": 360,
       "width": 402
      },
      "needs_background": "light"
     },
     "output_type": "display_data"
    },
    {
     "data": {
      "application/javascript": [
       "\n",
       "            setTimeout(function() {\n",
       "                var nbb_cell_id = 37;\n",
       "                var nbb_unformatted_code = \"plot_confusion_matrix(frog_cm, classes=[\\\"class \\\" + str(i) for i in label_keys])\";\n",
       "                var nbb_formatted_code = \"plot_confusion_matrix(frog_cm, classes=[\\\"class \\\" + str(i) for i in label_keys])\";\n",
       "                var nbb_cells = Jupyter.notebook.get_cells();\n",
       "                for (var i = 0; i < nbb_cells.length; ++i) {\n",
       "                    if (nbb_cells[i].input_prompt_number == nbb_cell_id) {\n",
       "                        if (nbb_cells[i].get_text() == nbb_unformatted_code) {\n",
       "                             nbb_cells[i].set_text(nbb_formatted_code);\n",
       "                        }\n",
       "                        break;\n",
       "                    }\n",
       "                }\n",
       "            }, 500);\n",
       "            "
      ],
      "text/plain": [
       "<IPython.core.display.Javascript object>"
      ]
     },
     "metadata": {},
     "output_type": "display_data"
    }
   ],
   "source": [
    "plot_confusion_matrix(frog_cm, classes=[\"class \" + str(i) for i in label_keys])"
   ]
  },
  {
   "cell_type": "code",
   "execution_count": null,
   "id": "91094ce3",
   "metadata": {},
   "outputs": [],
   "source": []
  },
  {
   "cell_type": "markdown",
   "id": "21c4a386",
   "metadata": {},
   "source": [
    "### 4. Prediction with best model on entire training set"
   ]
  },
  {
   "cell_type": "markdown",
   "id": "444c59a9",
   "metadata": {},
   "source": [
    "Observation: Pre tuned XGB model gave us the best result and we will fit that to the enetire training data and predict on the test data set."
   ]
  },
  {
   "cell_type": "code",
   "execution_count": 38,
   "id": "63f9676d",
   "metadata": {},
   "outputs": [
    {
     "data": {
      "application/javascript": [
       "\n",
       "            setTimeout(function() {\n",
       "                var nbb_cell_id = 38;\n",
       "                var nbb_unformatted_code = \"model = xgb.XGBClassifier()\\nmodel_xgb = model.fit(preprocessor.fit_transform(x), y)\\ny_pred = model_xgb.predict(preprocessor.fit_transform(x_test))\";\n",
       "                var nbb_formatted_code = \"model = xgb.XGBClassifier()\\nmodel_xgb = model.fit(preprocessor.fit_transform(x), y)\\ny_pred = model_xgb.predict(preprocessor.fit_transform(x_test))\";\n",
       "                var nbb_cells = Jupyter.notebook.get_cells();\n",
       "                for (var i = 0; i < nbb_cells.length; ++i) {\n",
       "                    if (nbb_cells[i].input_prompt_number == nbb_cell_id) {\n",
       "                        if (nbb_cells[i].get_text() == nbb_unformatted_code) {\n",
       "                             nbb_cells[i].set_text(nbb_formatted_code);\n",
       "                        }\n",
       "                        break;\n",
       "                    }\n",
       "                }\n",
       "            }, 500);\n",
       "            "
      ],
      "text/plain": [
       "<IPython.core.display.Javascript object>"
      ]
     },
     "metadata": {},
     "output_type": "display_data"
    }
   ],
   "source": [
    "model = xgb.XGBClassifier()\n",
    "model_xgb = model.fit(preprocessor.fit_transform(x), y)\n",
    "y_pred = model_xgb.predict(preprocessor.fit_transform(x_test))"
   ]
  },
  {
   "cell_type": "code",
   "execution_count": 39,
   "id": "3b8af0df",
   "metadata": {},
   "outputs": [
    {
     "data": {
      "application/javascript": [
       "\n",
       "            setTimeout(function() {\n",
       "                var nbb_cell_id = 39;\n",
       "                var nbb_unformatted_code = \"predictions = pd.DataFrame({0: y_pred})\";\n",
       "                var nbb_formatted_code = \"predictions = pd.DataFrame({0: y_pred})\";\n",
       "                var nbb_cells = Jupyter.notebook.get_cells();\n",
       "                for (var i = 0; i < nbb_cells.length; ++i) {\n",
       "                    if (nbb_cells[i].input_prompt_number == nbb_cell_id) {\n",
       "                        if (nbb_cells[i].get_text() == nbb_unformatted_code) {\n",
       "                             nbb_cells[i].set_text(nbb_formatted_code);\n",
       "                        }\n",
       "                        break;\n",
       "                    }\n",
       "                }\n",
       "            }, 500);\n",
       "            "
      ],
      "text/plain": [
       "<IPython.core.display.Javascript object>"
      ]
     },
     "metadata": {},
     "output_type": "display_data"
    }
   ],
   "source": [
    "predictions = pd.DataFrame({0: y_pred})"
   ]
  },
  {
   "cell_type": "code",
   "execution_count": 40,
   "id": "f0911920",
   "metadata": {},
   "outputs": [
    {
     "data": {
      "application/javascript": [
       "\n",
       "            setTimeout(function() {\n",
       "                var nbb_cell_id = 40;\n",
       "                var nbb_unformatted_code = \"predictions.to_csv(\\\"predictions.csv\\\")\";\n",
       "                var nbb_formatted_code = \"predictions.to_csv(\\\"predictions.csv\\\")\";\n",
       "                var nbb_cells = Jupyter.notebook.get_cells();\n",
       "                for (var i = 0; i < nbb_cells.length; ++i) {\n",
       "                    if (nbb_cells[i].input_prompt_number == nbb_cell_id) {\n",
       "                        if (nbb_cells[i].get_text() == nbb_unformatted_code) {\n",
       "                             nbb_cells[i].set_text(nbb_formatted_code);\n",
       "                        }\n",
       "                        break;\n",
       "                    }\n",
       "                }\n",
       "            }, 500);\n",
       "            "
      ],
      "text/plain": [
       "<IPython.core.display.Javascript object>"
      ]
     },
     "metadata": {},
     "output_type": "display_data"
    }
   ],
   "source": [
    "predictions.to_csv(\"predictions.csv\")"
   ]
  },
  {
   "cell_type": "code",
   "execution_count": 41,
   "id": "391f7dae",
   "metadata": {},
   "outputs": [
    {
     "data": {
      "text/html": [
       "<div>\n",
       "<style scoped>\n",
       "    .dataframe tbody tr th:only-of-type {\n",
       "        vertical-align: middle;\n",
       "    }\n",
       "\n",
       "    .dataframe tbody tr th {\n",
       "        vertical-align: top;\n",
       "    }\n",
       "\n",
       "    .dataframe thead th {\n",
       "        text-align: right;\n",
       "    }\n",
       "</style>\n",
       "<table border=\"1\" class=\"dataframe\">\n",
       "  <thead>\n",
       "    <tr style=\"text-align: right;\">\n",
       "      <th></th>\n",
       "      <th>0</th>\n",
       "    </tr>\n",
       "  </thead>\n",
       "  <tbody>\n",
       "    <tr>\n",
       "      <th>0</th>\n",
       "      <td>1</td>\n",
       "    </tr>\n",
       "    <tr>\n",
       "      <th>1</th>\n",
       "      <td>2</td>\n",
       "    </tr>\n",
       "    <tr>\n",
       "      <th>2</th>\n",
       "      <td>1</td>\n",
       "    </tr>\n",
       "    <tr>\n",
       "      <th>3</th>\n",
       "      <td>1</td>\n",
       "    </tr>\n",
       "    <tr>\n",
       "      <th>4</th>\n",
       "      <td>1</td>\n",
       "    </tr>\n",
       "    <tr>\n",
       "      <th>...</th>\n",
       "      <td>...</td>\n",
       "    </tr>\n",
       "    <tr>\n",
       "      <th>555</th>\n",
       "      <td>2</td>\n",
       "    </tr>\n",
       "    <tr>\n",
       "      <th>556</th>\n",
       "      <td>2</td>\n",
       "    </tr>\n",
       "    <tr>\n",
       "      <th>557</th>\n",
       "      <td>2</td>\n",
       "    </tr>\n",
       "    <tr>\n",
       "      <th>558</th>\n",
       "      <td>1</td>\n",
       "    </tr>\n",
       "    <tr>\n",
       "      <th>559</th>\n",
       "      <td>1</td>\n",
       "    </tr>\n",
       "  </tbody>\n",
       "</table>\n",
       "<p>560 rows × 1 columns</p>\n",
       "</div>"
      ],
      "text/plain": [
       "     0\n",
       "0    1\n",
       "1    2\n",
       "2    1\n",
       "3    1\n",
       "4    1\n",
       "..  ..\n",
       "555  2\n",
       "556  2\n",
       "557  2\n",
       "558  1\n",
       "559  1\n",
       "\n",
       "[560 rows x 1 columns]"
      ]
     },
     "execution_count": 41,
     "metadata": {},
     "output_type": "execute_result"
    },
    {
     "data": {
      "application/javascript": [
       "\n",
       "            setTimeout(function() {\n",
       "                var nbb_cell_id = 41;\n",
       "                var nbb_unformatted_code = \"predictions\";\n",
       "                var nbb_formatted_code = \"predictions\";\n",
       "                var nbb_cells = Jupyter.notebook.get_cells();\n",
       "                for (var i = 0; i < nbb_cells.length; ++i) {\n",
       "                    if (nbb_cells[i].input_prompt_number == nbb_cell_id) {\n",
       "                        if (nbb_cells[i].get_text() == nbb_unformatted_code) {\n",
       "                             nbb_cells[i].set_text(nbb_formatted_code);\n",
       "                        }\n",
       "                        break;\n",
       "                    }\n",
       "                }\n",
       "            }, 500);\n",
       "            "
      ],
      "text/plain": [
       "<IPython.core.display.Javascript object>"
      ]
     },
     "metadata": {},
     "output_type": "display_data"
    }
   ],
   "source": [
    "predictions"
   ]
  },
  {
   "cell_type": "code",
   "execution_count": null,
   "id": "69c67b03",
   "metadata": {},
   "outputs": [],
   "source": []
  }
 ],
 "metadata": {
  "kernelspec": {
   "display_name": "Python 3",
   "language": "python",
   "name": "python3"
  },
  "language_info": {
   "codemirror_mode": {
    "name": "ipython",
    "version": 3
   },
   "file_extension": ".py",
   "mimetype": "text/x-python",
   "name": "python",
   "nbconvert_exporter": "python",
   "pygments_lexer": "ipython3",
   "version": "3.8.8"
  }
 },
 "nbformat": 4,
 "nbformat_minor": 5
}
